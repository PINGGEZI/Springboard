{
 "cells": [
  {
   "cell_type": "markdown",
   "metadata": {},
   "source": [
    "## 4.1 Imports"
   ]
  },
  {
   "cell_type": "code",
   "execution_count": 68,
   "metadata": {},
   "outputs": [],
   "source": [
    "import pandas as pd\n",
    "from sklearn import tree\n",
    "from imblearn.over_sampling import BorderlineSMOTE\n",
    "from imblearn.under_sampling import NearMiss\n",
    "from sklearn.ensemble import RandomForestClassifier\n",
    "from sklearn.metrics import classification_report, confusion_matrix,f1_score,accuracy_score as acc\n",
    "from sklearn.model_selection import ParameterGrid,RandomizedSearchCV,PredefinedSplit,GridSearchCV\n",
    "from imblearn.pipeline import make_pipeline"
   ]
  },
  {
   "cell_type": "markdown",
   "metadata": {},
   "source": [
    "## 4.2 Load The Training And Test Data\n"
   ]
  },
  {
   "cell_type": "code",
   "execution_count": 3,
   "metadata": {},
   "outputs": [],
   "source": [
    "train = pd.read_csv('../data/training_step3.csv')\n",
    "val = pd.read_csv('../data/validation_step3.csv')\n",
    "test = pd.read_csv('../data/test_step3.csv')"
   ]
  },
  {
   "cell_type": "code",
   "execution_count": 4,
   "metadata": {},
   "outputs": [],
   "source": [
    "X_train = train.iloc[:,:-1]\n",
    "y_train = train.iloc[:,-1]\n",
    "\n",
    "X_val = val.iloc[:,:-1]\n",
    "y_val = val.iloc[:,-1]\n",
    "\n",
    "X_test = test.iloc[:,:-1]\n",
    "y_test= test.iloc[:,-1]"
   ]
  },
  {
   "cell_type": "markdown",
   "metadata": {},
   "source": [
    "## Decision Tree Model"
   ]
  },
  {
   "cell_type": "markdown",
   "metadata": {},
   "source": [
    "### Basic Decision Tree Model\n"
   ]
  },
  {
   "cell_type": "code",
   "execution_count": 214,
   "metadata": {},
   "outputs": [
    {
     "name": "stdout",
     "output_type": "stream",
     "text": [
      "              precision    recall  f1-score   support\n",
      "\n",
      "           1       0.80      0.78      0.79    135578\n",
      "           2       0.81      0.86      0.84    181312\n",
      "           3       0.79      0.82      0.81     22882\n",
      "           4       0.83      0.67      0.74      1759\n",
      "           5       0.77      0.35      0.48      6075\n",
      "           6       0.67      0.45      0.54     11115\n",
      "           7       0.88      0.76      0.82     13126\n",
      "\n",
      "    accuracy                           0.81    371847\n",
      "   macro avg       0.79      0.67      0.72    371847\n",
      "weighted avg       0.80      0.81      0.80    371847\n",
      "\n"
     ]
    }
   ],
   "source": [
    "#fit a decision tree model\n",
    "decision_tree = tree.DecisionTreeClassifier(max_depth = 10,random_state= 42)\n",
    "decision_tree.fit(X_train,y_train)\n",
    "pred_y_train = decision_tree.predict(X_train)\n",
    "print(classification_report(y_train,pred_y_train))"
   ]
  },
  {
   "cell_type": "code",
   "execution_count": 215,
   "metadata": {},
   "outputs": [
    {
     "name": "stdout",
     "output_type": "stream",
     "text": [
      "              precision    recall  f1-score   support\n",
      "\n",
      "           1       0.79      0.77      0.78     33894\n",
      "           2       0.80      0.86      0.83     45328\n",
      "           3       0.78      0.82      0.80      5721\n",
      "           4       0.81      0.65      0.72       439\n",
      "           5       0.76      0.33      0.46      1519\n",
      "           6       0.65      0.43      0.52      2779\n",
      "           7       0.88      0.76      0.81      3282\n",
      "\n",
      "    accuracy                           0.80     92962\n",
      "   macro avg       0.78      0.66      0.70     92962\n",
      "weighted avg       0.80      0.80      0.79     92962\n",
      "\n"
     ]
    }
   ],
   "source": [
    "pred_y_val = decision_tree.predict(X_val)\n",
    "print(classification_report(y_val,pred_y_val))"
   ]
  },
  {
   "cell_type": "markdown",
   "metadata": {},
   "source": [
    "The basic decision tree with max depth 10 is underfitting because the scores on both training set are very close but not satisfying. The recall scores on cover type 4 and 5 are only 0.33 and 0.43, so the decision tree cannot effectively identify them from others. But compared to 0.04 and 0.28 of the baseline model (logistic regression), the decision tree has improved a lot. Meanwhile, the accuracy, weighted average precision, recall, f1-score are 8% higher respectivley. The macro average precision, recall and f1-score are  15%, 14% and 16% higher.\n"
   ]
  },
  {
   "cell_type": "markdown",
   "metadata": {},
   "source": [
    "### Hyperparameter Tuning For Decision Tree Model"
   ]
  },
  {
   "cell_type": "code",
   "execution_count": 178,
   "metadata": {},
   "outputs": [
    {
     "name": "stdout",
     "output_type": "stream",
     "text": [
      "Traiing Macro_f1: 0.7167         Validation Macro_f1: 0.7033\n",
      "Training ACC: 0.8057              Validation ACC: 0.7981\n",
      "Grid: {'criterion': 'gini', 'max_depth': 10}\n",
      "\n",
      "---------------------------------------------------------------\n",
      "Traiing Macro_f1: 0.7522         Validation Macro_f1: 0.7293\n",
      "Training ACC: 0.8249              Validation ACC: 0.8148\n",
      "Grid: {'criterion': 'gini', 'max_depth': 11}\n",
      "\n",
      "---------------------------------------------------------------\n",
      "Traiing Macro_f1: 0.7824         Validation Macro_f1: 0.7541\n",
      "Training ACC: 0.846              Validation ACC: 0.8321\n",
      "Grid: {'criterion': 'gini', 'max_depth': 12}\n",
      "\n",
      "---------------------------------------------------------------\n",
      "Traiing Macro_f1: 0.8147         Validation Macro_f1: 0.7774\n",
      "Training ACC: 0.8658              Validation ACC: 0.8482\n",
      "Grid: {'criterion': 'gini', 'max_depth': 13}\n",
      "\n",
      "---------------------------------------------------------------\n",
      "Traiing Macro_f1: 0.8482         Validation Macro_f1: 0.8027\n",
      "Training ACC: 0.8843              Validation ACC: 0.8624\n",
      "Grid: {'criterion': 'gini', 'max_depth': 14}\n",
      "\n",
      "---------------------------------------------------------------\n",
      "Traiing Macro_f1: 0.8751         Validation Macro_f1: 0.8199\n",
      "Training ACC: 0.9052              Validation ACC: 0.8775\n",
      "Grid: {'criterion': 'gini', 'max_depth': 15}\n",
      "\n",
      "---------------------------------------------------------------\n",
      "Traiing Macro_f1: 0.8999         Validation Macro_f1: 0.8355\n",
      "Training ACC: 0.9234              Validation ACC: 0.8894\n",
      "Grid: {'criterion': 'gini', 'max_depth': 16}\n",
      "\n",
      "---------------------------------------------------------------\n",
      "Traiing Macro_f1: 0.9225         Validation Macro_f1: 0.848\n",
      "Training ACC: 0.9389              Validation ACC: 0.8989\n",
      "Grid: {'criterion': 'gini', 'max_depth': 17}\n",
      "\n",
      "---------------------------------------------------------------\n",
      "Traiing Macro_f1: 0.9418         Validation Macro_f1: 0.86\n",
      "Training ACC: 0.9523              Validation ACC: 0.9074\n",
      "Grid: {'criterion': 'gini', 'max_depth': 18}\n",
      "\n",
      "---------------------------------------------------------------\n",
      "Traiing Macro_f1: 0.957         Validation Macro_f1: 0.8647\n",
      "Training ACC: 0.9645              Validation ACC: 0.9142\n",
      "Grid: {'criterion': 'gini', 'max_depth': 19}\n",
      "\n",
      "---------------------------------------------------------------\n",
      "Traiing Macro_f1: 0.9683         Validation Macro_f1: 0.8709\n",
      "Training ACC: 0.9741              Validation ACC: 0.9199\n",
      "Grid: {'criterion': 'gini', 'max_depth': 20}\n",
      "\n",
      "---------------------------------------------------------------\n",
      "Traiing Macro_f1: 0.9777         Validation Macro_f1: 0.8732\n",
      "Training ACC: 0.9813              Validation ACC: 0.9225\n",
      "Grid: {'criterion': 'gini', 'max_depth': 21}\n",
      "\n",
      "---------------------------------------------------------------\n",
      "Traiing Macro_f1: 0.984         Validation Macro_f1: 0.876\n",
      "Training ACC: 0.9869              Validation ACC: 0.9258\n",
      "Grid: {'criterion': 'gini', 'max_depth': 22}\n",
      "\n",
      "---------------------------------------------------------------\n",
      "Traiing Macro_f1: 0.9885         Validation Macro_f1: 0.8783\n",
      "Training ACC: 0.9912              Validation ACC: 0.9278\n",
      "Grid: {'criterion': 'gini', 'max_depth': 23}\n",
      "\n",
      "---------------------------------------------------------------\n",
      "Traiing Macro_f1: 0.9915         Validation Macro_f1: 0.8798\n",
      "Training ACC: 0.9941              Validation ACC: 0.9288\n",
      "Grid: {'criterion': 'gini', 'max_depth': 24}\n",
      "\n",
      "---------------------------------------------------------------\n",
      "Traiing Macro_f1: 0.9979         Validation Macro_f1: 0.8824\n",
      "Training ACC: 0.9987              Validation ACC: 0.9303\n",
      "Grid: {'criterion': 'gini', 'max_depth': 27}\n",
      "\n",
      "---------------------------------------------------------------\n",
      "Traiing Macro_f1: 0.9989         Validation Macro_f1: 0.883\n",
      "Training ACC: 0.9993              Validation ACC: 0.9307\n",
      "Grid: {'criterion': 'gini', 'max_depth': 28}\n",
      "\n",
      "---------------------------------------------------------------\n",
      "Traiing Macro_f1: 0.9994         Validation Macro_f1: 0.8842\n",
      "Training ACC: 0.9996              Validation ACC: 0.9296\n",
      "Grid: {'criterion': 'gini', 'max_depth': 29}\n",
      "\n",
      "---------------------------------------------------------------\n",
      "Traiing Macro_f1: 0.9997         Validation Macro_f1: 0.8843\n",
      "Training ACC: 0.9999              Validation ACC: 0.9298\n",
      "Grid: {'criterion': 'gini', 'max_depth': 31}\n",
      "\n",
      "---------------------------------------------------------------\n",
      "Traiing Macro_f1: 0.9798         Validation Macro_f1: 0.8872\n",
      "Training ACC: 0.9664              Validation ACC: 0.9169\n",
      "Grid: {'criterion': 'entropy', 'max_depth': 20}\n",
      "\n",
      "---------------------------------------------------------------\n",
      "Traiing Macro_f1: 0.9856         Validation Macro_f1: 0.8907\n",
      "Training ACC: 0.9745              Validation ACC: 0.9214\n",
      "Grid: {'criterion': 'entropy', 'max_depth': 21}\n",
      "\n",
      "---------------------------------------------------------------\n",
      "Traiing Macro_f1: 0.9901         Validation Macro_f1: 0.8924\n",
      "Training ACC: 0.9811              Validation ACC: 0.9251\n",
      "Grid: {'criterion': 'entropy', 'max_depth': 22}\n",
      "\n",
      "---------------------------------------------------------------\n",
      "Traiing Macro_f1: 0.9934         Validation Macro_f1: 0.8942\n",
      "Training ACC: 0.9861              Validation ACC: 0.9288\n",
      "Grid: {'criterion': 'entropy', 'max_depth': 23}\n",
      "\n",
      "---------------------------------------------------------------\n",
      "Traiing Macro_f1: 0.996         Validation Macro_f1: 0.8966\n",
      "Training ACC: 0.9906              Validation ACC: 0.9305\n",
      "Grid: {'criterion': 'entropy', 'max_depth': 24}\n",
      "\n",
      "---------------------------------------------------------------\n",
      "Traiing Macro_f1: 0.9989         Validation Macro_f1: 0.8995\n",
      "Training ACC: 0.9971              Validation ACC: 0.9358\n",
      "Grid: {'criterion': 'entropy', 'max_depth': 27}\n",
      "\n",
      "---------------------------------------------------------------\n"
     ]
    }
   ],
   "source": [
    "params = {'max_depth': np.arange(10,35),\n",
    "         'criterion': ['gini','entropy']}\n",
    "\n",
    "\n",
    "decision_tree = tree.DecisionTreeClassifier()\n",
    "best_score = 0\n",
    "\n",
    "# perform brute-force grid search to try out all parameters\n",
    "for g in ParameterGrid(params):\n",
    "    decision_tree.set_params(**g)\n",
    "    decision_tree.fit(X_train, y_train,random_state= 42)  \n",
    "    pred_y_train = decision_tree.predict(X_train)\n",
    "    pred_y_val = decision_tree.predict(X_val)\n",
    "    \n",
    "    #macro f1 scores\n",
    "    f1_score_train = f1_score(y_train, pred_y_train,average = 'macro')\n",
    "    f1_score_val = f1_score(y_val, pred_y_val,average = 'macro')\n",
    "    \n",
    "    #accuracy scores\n",
    "    acc_score_train = acc(y_train, pred_y_train)\n",
    "    acc_score_val = acc(y_val, pred_y_val)\n",
    "     \n",
    "    # save if best\n",
    "    if f1_score_val > best_score:\n",
    "        best_score = f1_score_val\n",
    "        best_grid = g\n",
    "        print(\"Traiing Macro_f1:\", np.round(f1_score_train,4),\"       \",\"Validation Macro_f1:\",np.round(f1_score_val,4))\n",
    "        print(\"Training ACC:\", np.round(acc_score_train,4),\"            \",\"Validation ACC:\",np.round(acc_score_val,4))\n",
    "\n",
    "        print(\"Grid:\", best_grid)\n",
    "        print('')\n",
    "        print(\"---------------------------------------------------------------\")\n",
    "\n"
   ]
  },
  {
   "cell_type": "markdown",
   "metadata": {},
   "source": [
    "The model with splitting criterion entropy and max depth 27 has the best results. Both of the F1-score and accuracy reach the highest. The the difference between f1 scores on training set and validation set are converging as max depth growing to max_depth 27. "
   ]
  },
  {
   "cell_type": "code",
   "execution_count": 205,
   "metadata": {},
   "outputs": [],
   "source": [
    "best_decision_tree = tree.DecisionTreeClassifier()\n",
    "best_decision_tree.set_params(**best_grid)\n",
    "best_decision_tree.fit(X_train,y_train)\n",
    "pred_y_train = best_decision_tree.predict(X_train)\n",
    "pred_y_val = best_decision_tree.predict(X_val)\n"
   ]
  },
  {
   "cell_type": "code",
   "execution_count": 206,
   "metadata": {},
   "outputs": [
    {
     "name": "stdout",
     "output_type": "stream",
     "text": [
      "              precision    recall  f1-score   support\n",
      "\n",
      "           1       0.99      1.00      1.00    135578\n",
      "           2       1.00      1.00      1.00    181312\n",
      "           3       1.00      1.00      1.00     22882\n",
      "           4       1.00      1.00      1.00      1759\n",
      "           5       1.00      1.00      1.00      6075\n",
      "           6       1.00      1.00      1.00     11115\n",
      "           7       1.00      1.00      1.00     13126\n",
      "\n",
      "    accuracy                           1.00    371847\n",
      "   macro avg       1.00      1.00      1.00    371847\n",
      "weighted avg       1.00      1.00      1.00    371847\n",
      "\n",
      "              precision    recall  f1-score   support\n",
      "\n",
      "           1       0.94      0.93      0.93     33894\n",
      "           2       0.95      0.95      0.95     45328\n",
      "           3       0.92      0.94      0.93      5721\n",
      "           4       0.85      0.81      0.83       439\n",
      "           5       0.81      0.82      0.82      1519\n",
      "           6       0.88      0.86      0.87      2779\n",
      "           7       0.95      0.94      0.95      3282\n",
      "\n",
      "    accuracy                           0.94     92962\n",
      "   macro avg       0.90      0.89      0.90     92962\n",
      "weighted avg       0.94      0.94      0.94     92962\n",
      "\n"
     ]
    }
   ],
   "source": [
    "print(classification_report(y_train,pred_y_train))\n",
    "print(classification_report(y_val,pred_y_val))"
   ]
  },
  {
   "cell_type": "code",
   "execution_count": 209,
   "metadata": {},
   "outputs": [
    {
     "name": "stdout",
     "output_type": "stream",
     "text": [
      "[[31659  2054     4     0    32     8   137]\n",
      " [ 1968 42858   145     0   236    98    23]\n",
      " [    1   102  5366    40    12   200     0]\n",
      " [    0     1    59   354     0    25     0]\n",
      " [   42   209    18     0  1244     6     0]\n",
      " [    5    90   252    24     7  2401     0]\n",
      " [  158    26     0     0     0     0  3098]]\n"
     ]
    }
   ],
   "source": [
    "print(confusion_matrix(y_val,pred_y_val))"
   ]
  },
  {
   "cell_type": "markdown",
   "metadata": {},
   "source": [
    "## Random Forest Model"
   ]
  },
  {
   "cell_type": "code",
   "execution_count": 5,
   "metadata": {},
   "outputs": [],
   "source": [
    "random_forest = RandomForestClassifier(n_jobs= -1,max_depth = 10,random_state= 42)\n",
    "random_forest.fit(X_train,y_train)\n",
    "\n",
    "pred_y_train = random_forest.predict(X_train)\n",
    "pred_y_val = random_forest.predict(X_val)"
   ]
  },
  {
   "cell_type": "code",
   "execution_count": 233,
   "metadata": {},
   "outputs": [
    {
     "name": "stdout",
     "output_type": "stream",
     "text": [
      "              precision    recall  f1-score   support\n",
      "\n",
      "           1       0.78      0.77      0.78    135578\n",
      "           2       0.80      0.85      0.82    181312\n",
      "           3       0.78      0.90      0.83     22882\n",
      "           4       0.92      0.74      0.82      1759\n",
      "           5       0.90      0.16      0.28      6075\n",
      "           6       0.79      0.45      0.57     11115\n",
      "           7       0.85      0.69      0.77     13126\n",
      "\n",
      "    accuracy                           0.79    371847\n",
      "   macro avg       0.83      0.65      0.70    371847\n",
      "weighted avg       0.80      0.79      0.79    371847\n",
      "\n"
     ]
    }
   ],
   "source": [
    "print(classification_report(y_train,pred_y_train))\n"
   ]
  },
  {
   "cell_type": "code",
   "execution_count": 234,
   "metadata": {},
   "outputs": [
    {
     "name": "stdout",
     "output_type": "stream",
     "text": [
      "              precision    recall  f1-score   support\n",
      "\n",
      "           1       0.77      0.77      0.77     33894\n",
      "           2       0.80      0.84      0.82     45328\n",
      "           3       0.77      0.90      0.83      5721\n",
      "           4       0.87      0.70      0.78       439\n",
      "           5       0.89      0.15      0.26      1519\n",
      "           6       0.76      0.43      0.55      2779\n",
      "           7       0.86      0.69      0.77      3282\n",
      "\n",
      "    accuracy                           0.79     92962\n",
      "   macro avg       0.82      0.64      0.68     92962\n",
      "weighted avg       0.79      0.79      0.78     92962\n",
      "\n"
     ]
    }
   ],
   "source": [
    "print(classification_report(y_val,pred_y_val))"
   ]
  },
  {
   "cell_type": "markdown",
   "metadata": {},
   "source": [
    "### Hyperparameter Tuning for Random Forest Model"
   ]
  },
  {
   "cell_type": "code",
   "execution_count": 53,
   "metadata": {},
   "outputs": [],
   "source": [
    "#params = {'n_estimators': [int(x) for x in np.linspace(start = 100, stop = 500, num = 5)],#\n",
    "#         'criterion': ['gini','entropy'],\n",
    "#          'max_depth': [10,20,30,40]}\n",
    "         \n",
    "\n",
    "####append the training set and validation set in order to adapt for the RandomForestClassifier\n",
    "####our validaiton set is predefined and we don't want RandomForestClassifier validate using our training set\n",
    "#X_train_val = X_train.append(X_val)\n",
    "#y_train_val = y_train.append(y_val)\n",
    "\n",
    "####set the index of the predefined set to 0, so the RandomizedSearchCV will not train on the predefined validation set\n",
    "#predefined_folds = np.zeros(X_train_val.shape[0])\n",
    "#set the index of the training set to -1\n",
    "#predefined_folds[:X_train.shape[0]] = -1 \n",
    "#pfs = PredefinedSplit(test_fold = predefined_folds) \n",
    "  \n",
    "    \n",
    "\n",
    "####Hyperparameter Tuning by randomizedd search\n",
    "#random_forest = RandomForestClassifier(random_state = 42,max_depth= 35)\n",
    "#rs = GridSearchCV(estimator = random_forest,\n",
    "#                       param_grid = params,\n",
    "#                        scoring='f1_micro',\n",
    "#                        cv= pfs,\n",
    "#                        verbose= 10,\n",
    "#                        n_jobs= -1)\n",
    "\n",
    "#rs.fit(X_train_val,y_train_val)\n",
    "#rs.best_params_\n",
    "\n"
   ]
  },
  {
   "cell_type": "markdown",
   "metadata": {},
   "source": [
    "## Perform Oversampling On the Data"
   ]
  },
  {
   "cell_type": "markdown",
   "metadata": {},
   "source": [
    "In order to address the issue of class imblance, we perform oversampling and undersampling on the trainning set, and\n",
    "keep validation set and test set intact."
   ]
  },
  {
   "cell_type": "code",
   "execution_count": 62,
   "metadata": {},
   "outputs": [
    {
     "data": {
      "text/plain": [
       "2    181312\n",
       "1    135578\n",
       "3     22882\n",
       "7     13126\n",
       "6     11115\n",
       "5      6075\n",
       "4      1759\n",
       "Name: Cover_Type, dtype: int64"
      ]
     },
     "execution_count": 62,
     "metadata": {},
     "output_type": "execute_result"
    }
   ],
   "source": [
    "train.Cover_Type.value_counts()"
   ]
  },
  {
   "cell_type": "code",
   "execution_count": 104,
   "metadata": {},
   "outputs": [],
   "source": [
    "#set the target counts for the undersampled classes\n",
    "covtype1_count = 50000\n",
    "covtype2_count = 50000\n",
    "#covtype3_count = 8000\n",
    "\n",
    "#set the target counts for the oversampled classe\n",
    "covtype4_count = 3400\n",
    "covtype5_count  = 8000\n",
    "\n",
    "pipe = make_pipeline(\n",
    "    BorderlineSMOTE(sampling_strategy={4: covtype4_count,5: covtype5_count},kind=\"borderline-1\"),\n",
    "    NearMiss(sampling_strategy={1 :covtype1_count,2:covtype2_count})\n",
    "    )\n",
    "\n",
    "X_train_res, y_train_res = pipe.fit_resample(X_train, y_train)\n"
   ]
  },
  {
   "cell_type": "code",
   "execution_count": 105,
   "metadata": {},
   "outputs": [
    {
     "data": {
      "text/plain": [
       "2    50000\n",
       "1    50000\n",
       "3    22882\n",
       "7    13126\n",
       "6    11115\n",
       "5     8000\n",
       "4     3400\n",
       "Name: Cover_Type, dtype: int64"
      ]
     },
     "execution_count": 105,
     "metadata": {},
     "output_type": "execute_result"
    }
   ],
   "source": [
    "#the size of each resampled class\n",
    "y_train_res.value_counts()"
   ]
  },
  {
   "cell_type": "code",
   "execution_count": 106,
   "metadata": {},
   "outputs": [],
   "source": [
    "best_grid = {'criterion': 'entropy', 'max_depth': 27}"
   ]
  },
  {
   "cell_type": "code",
   "execution_count": 107,
   "metadata": {},
   "outputs": [],
   "source": [
    "decision_tree_res = tree.DecisionTreeClassifier()\n",
    "decision_tree_res.set_params(**best_grid)\n",
    "decision_tree_res.fit(X_train_res,y_train_res)\n",
    "pred_y_train = decision_tree_res.predict(X_train_res)\n",
    "pred_y_val = decision_tree_res.predict(X_val)"
   ]
  },
  {
   "cell_type": "code",
   "execution_count": 108,
   "metadata": {},
   "outputs": [
    {
     "name": "stdout",
     "output_type": "stream",
     "text": [
      "              precision    recall  f1-score   support\n",
      "\n",
      "           1       1.00      1.00      1.00     50000\n",
      "           2       1.00      1.00      1.00     50000\n",
      "           3       1.00      1.00      1.00     22882\n",
      "           4       1.00      1.00      1.00      3400\n",
      "           5       1.00      1.00      1.00      8000\n",
      "           6       1.00      1.00      1.00     11115\n",
      "           7       1.00      1.00      1.00     13126\n",
      "\n",
      "    accuracy                           1.00    158523\n",
      "   macro avg       1.00      1.00      1.00    158523\n",
      "weighted avg       1.00      1.00      1.00    158523\n",
      "\n"
     ]
    }
   ],
   "source": [
    "print(classification_report(y_train_res,pred_y_train))"
   ]
  },
  {
   "cell_type": "code",
   "execution_count": 109,
   "metadata": {},
   "outputs": [
    {
     "name": "stdout",
     "output_type": "stream",
     "text": [
      "              precision    recall  f1-score   support\n",
      "\n",
      "           1       0.55      0.70      0.61     33894\n",
      "           2       0.94      0.39      0.55     45328\n",
      "           3       0.92      0.93      0.92      5721\n",
      "           4       0.82      0.85      0.84       439\n",
      "           5       0.18      0.85      0.30      1519\n",
      "           6       0.75      0.87      0.81      2779\n",
      "           7       0.23      0.99      0.37      3282\n",
      "\n",
      "    accuracy                           0.58     92962\n",
      "   macro avg       0.63      0.80      0.63     92962\n",
      "weighted avg       0.75      0.58      0.60     92962\n",
      "\n"
     ]
    }
   ],
   "source": [
    "print(classification_report(y_val,pred_y_val))"
   ]
  },
  {
   "cell_type": "code",
   "execution_count": null,
   "metadata": {},
   "outputs": [],
   "source": []
  }
 ],
 "metadata": {
  "kernelspec": {
   "display_name": "Python 3",
   "language": "python",
   "name": "python3"
  },
  "language_info": {
   "codemirror_mode": {
    "name": "ipython",
    "version": 3
   },
   "file_extension": ".py",
   "mimetype": "text/x-python",
   "name": "python",
   "nbconvert_exporter": "python",
   "pygments_lexer": "ipython3",
   "version": "3.8.5"
  },
  "varInspector": {
   "cols": {
    "lenName": 16,
    "lenType": 16,
    "lenVar": 40
   },
   "kernels_config": {
    "python": {
     "delete_cmd_postfix": "",
     "delete_cmd_prefix": "del ",
     "library": "var_list.py",
     "varRefreshCmd": "print(var_dic_list())"
    },
    "r": {
     "delete_cmd_postfix": ") ",
     "delete_cmd_prefix": "rm(",
     "library": "var_list.r",
     "varRefreshCmd": "cat(var_dic_list()) "
    }
   },
   "types_to_exclude": [
    "module",
    "function",
    "builtin_function_or_method",
    "instance",
    "_Feature"
   ],
   "window_display": false
  }
 },
 "nbformat": 4,
 "nbformat_minor": 4
}
