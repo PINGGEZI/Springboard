{
 "cells": [
  {
   "cell_type": "markdown",
   "metadata": {},
   "source": [
    "## Perform Oversampling On the Data"
   ]
  },
  {
   "cell_type": "markdown",
   "metadata": {},
   "source": [
    "In order to address the issue of class imblance, we perform oversampling on the trainning set, and\n",
    "keep validation set and test set intact."
   ]
  },
  {
   "cell_type": "code",
   "execution_count": null,
   "metadata": {},
   "outputs": [],
   "source": [
    "#oversampling data with one hot encoded features\n",
    "sm1 = BorderlineSMOTE(random_state=42)\n",
    "X_train_onehot_res, y_train_onehot_res = sm1.fit_resample(X_train_onehot, y_train)\n",
    "\n",
    "#oversample data with target encoded features \n",
    "sm2 = BorderlineSMOTE(random_state=42)\n",
    "X_train_target_res, y_train_target_res = sm2.fit_resample(X_train_target, y_train)"
   ]
  },
  {
   "cell_type": "markdown",
   "metadata": {},
   "source": [
    "## Compare One Hot Encoding and Target Encoding "
   ]
  },
  {
   "cell_type": "code",
   "execution_count": null,
   "metadata": {},
   "outputs": [],
   "source": [
    "#using one hot encoded features to fit a random forest model\n",
    "clf1 = RandomForestClassifier(random_state=42, n_jobs = -1)\n",
    "clf1.fit(X_train_onehot_res, y_train_onehot_res.values.ravel())\n",
    "pred_y_val1 = clf1.predict(X_val_onehot)\n",
    "\n",
    "print(classification_report(pred_y_val1, y_val.values.ravel()))"
   ]
  },
  {
   "cell_type": "code",
   "execution_count": null,
   "metadata": {},
   "outputs": [],
   "source": [
    "#using one target encoded features to fit a random forest model\n",
    "clf2 = RandomForestClassifier(random_state=42, n_jobs = -1)\n",
    "clf2.fit(X_train_target_res,  y_train_target_res.values.ravel())\n",
    "pred_y_val2 = clf2.predict(X_val_target)\n",
    "\n",
    "print(classification_report(pred_y_val2, y_val.values.ravel()))"
   ]
  },
  {
   "cell_type": "markdown",
   "metadata": {},
   "source": [
    "#### 笔记：oversampling 后运行logitclassification(baseline是logit 在processing).先运行一个decision tree(一棵树)，在运行random forest forest. (考虑在oversampling前要不要所有模型运行一遍，然后再在oversampling后运行前面所有模型，或者选前面模型里面最佳的一个) -》调参，train on trainning set, 用validationset 检验。"
   ]
  },
  {
   "cell_type": "markdown",
   "metadata": {},
   "source": [
    "The model fitting on target encoded features comprehensively outperforms the one fitting on encoded features. \n",
    "Most of the socres in precision, recall, f1-score have a 1% improvement, \n",
    "so we will keep the the feature matrix containing target encode features for our future modeling."
   ]
  },
  {
   "cell_type": "markdown",
   "metadata": {},
   "source": [
    "##  Save Data"
   ]
  },
  {
   "cell_type": "code",
   "execution_count": null,
   "metadata": {},
   "outputs": [],
   "source": [
    "#save trainning set\n",
    "train_new = pd.DataFrame(X_train_target_res, columns = col_names_target).join(y_train_target_res)\n",
    "datapath = '../data'\n",
    "train_new.to_csv(datapath + '/training_step3.csv', index=False)\n",
    "\n",
    "#save validation set\n",
    "val_new = pd.DataFrame(X_val_target, columns = col_names_target, index = y_val.index).join(y_val)\n",
    "val_new.to_csv(datapath + '/validation_step3.csv', index=False)\n",
    "\n",
    "#save validation set\n",
    "test_new = pd.DataFrame(X_test_target, columns = col_names_target, index = y_test.index).join(y_test)\n",
    "test_new.to_csv(datapath + '/test_step3.csv', index=False)"
   ]
  }
 ],
 "metadata": {
  "kernelspec": {
   "display_name": "Python 3",
   "language": "python",
   "name": "python3"
  },
  "language_info": {
   "codemirror_mode": {
    "name": "ipython",
    "version": 3
   },
   "file_extension": ".py",
   "mimetype": "text/x-python",
   "name": "python",
   "nbconvert_exporter": "python",
   "pygments_lexer": "ipython3",
   "version": "3.8.5"
  },
  "varInspector": {
   "cols": {
    "lenName": 16,
    "lenType": 16,
    "lenVar": 40
   },
   "kernels_config": {
    "python": {
     "delete_cmd_postfix": "",
     "delete_cmd_prefix": "del ",
     "library": "var_list.py",
     "varRefreshCmd": "print(var_dic_list())"
    },
    "r": {
     "delete_cmd_postfix": ") ",
     "delete_cmd_prefix": "rm(",
     "library": "var_list.r",
     "varRefreshCmd": "cat(var_dic_list()) "
    }
   },
   "types_to_exclude": [
    "module",
    "function",
    "builtin_function_or_method",
    "instance",
    "_Feature"
   ],
   "window_display": false
  }
 },
 "nbformat": 4,
 "nbformat_minor": 4
}
