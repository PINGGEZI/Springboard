{
 "cells": [
  {
   "cell_type": "markdown",
   "metadata": {},
   "source": [
    "## 4.1 Imports"
   ]
  },
  {
   "cell_type": "code",
   "execution_count": 265,
   "metadata": {},
   "outputs": [],
   "source": [
    "import pandas as pd\n",
    "from sklearn import tree\n",
    "from imblearn.over_sampling import BorderlineSMOTE\n",
    "from imblearn.under_sampling import NearMiss\n",
    "from sklearn.ensemble import RandomForestClassifier\n",
    "from sklearn.metrics import classification_report,plot_confusion_matrix,f1_score,accuracy_score as acc\n",
    "from sklearn.model_selection import ParameterGrid,RandomizedSearchCV,PredefinedSplit,GridSearchCV,learning_curve\n",
    "from imblearn.pipeline import make_pipeline\n",
    "import matplotlib.pyplot as plt\n",
    "import seaborn as sns\n",
    "from random import sample\n",
    "\n",
    "plt.rcParams['figure.figsize'] = [10,6]"
   ]
  },
  {
   "cell_type": "markdown",
   "metadata": {},
   "source": [
    "## 4.2 Load The Training And Test Data\n"
   ]
  },
  {
   "cell_type": "code",
   "execution_count": 156,
   "metadata": {},
   "outputs": [],
   "source": [
    "train = pd.read_csv('../data/training_step3.csv')\n",
    "val = pd.read_csv('../data/validation_step3.csv')\n",
    "test = pd.read_csv('../data/test_step3.csv')"
   ]
  },
  {
   "cell_type": "code",
   "execution_count": 157,
   "metadata": {},
   "outputs": [],
   "source": [
    "X_train = train.iloc[:,:-1]\n",
    "y_train = train.iloc[:,-1]\n",
    "\n",
    "X_val = val.iloc[:,:-1]\n",
    "y_val = val.iloc[:,-1]\n",
    "\n",
    "X_test = test.iloc[:,:-1]\n",
    "y_test= test.iloc[:,-1]"
   ]
  },
  {
   "cell_type": "markdown",
   "metadata": {},
   "source": [
    "## Decision Tree Model"
   ]
  },
  {
   "cell_type": "markdown",
   "metadata": {},
   "source": [
    "### Basic Decision Tree Model\n"
   ]
  },
  {
   "cell_type": "code",
   "execution_count": 158,
   "metadata": {},
   "outputs": [
    {
     "name": "stdout",
     "output_type": "stream",
     "text": [
      "              precision    recall  f1-score   support\n",
      "\n",
      "           1       0.80      0.78      0.79    135578\n",
      "           2       0.81      0.86      0.84    181312\n",
      "           3       0.79      0.82      0.81     22882\n",
      "           4       0.83      0.67      0.74      1759\n",
      "           5       0.77      0.35      0.48      6075\n",
      "           6       0.67      0.45      0.54     11115\n",
      "           7       0.88      0.76      0.82     13126\n",
      "\n",
      "    accuracy                           0.81    371847\n",
      "   macro avg       0.79      0.67      0.72    371847\n",
      "weighted avg       0.80      0.81      0.80    371847\n",
      "\n"
     ]
    }
   ],
   "source": [
    "#fit a decision tree model\n",
    "decision_tree = tree.DecisionTreeClassifier(max_depth = 10,random_state= 42)\n",
    "decision_tree.fit(X_train,y_train)\n",
    "pred_y_train = decision_tree.predict(X_train)\n",
    "print(classification_report(y_train,pred_y_train))"
   ]
  },
  {
   "cell_type": "code",
   "execution_count": 159,
   "metadata": {},
   "outputs": [
    {
     "name": "stdout",
     "output_type": "stream",
     "text": [
      "              precision    recall  f1-score   support\n",
      "\n",
      "           1       0.79      0.77      0.78     33894\n",
      "           2       0.80      0.86      0.83     45328\n",
      "           3       0.78      0.82      0.80      5721\n",
      "           4       0.81      0.65      0.72       439\n",
      "           5       0.76      0.33      0.46      1519\n",
      "           6       0.65      0.43      0.52      2779\n",
      "           7       0.88      0.76      0.81      3282\n",
      "\n",
      "    accuracy                           0.80     92962\n",
      "   macro avg       0.78      0.66      0.70     92962\n",
      "weighted avg       0.80      0.80      0.79     92962\n",
      "\n"
     ]
    }
   ],
   "source": [
    "pred_y_val = decision_tree.predict(X_val)\n",
    "print(classification_report(y_val,pred_y_val))"
   ]
  },
  {
   "cell_type": "markdown",
   "metadata": {},
   "source": [
    "The basic decision tree with max depth 10 is underfitting because the scores on both training set are very close but not satisfying. The recall scores on cover type 5 and 6 are only 0.33 and 0.43, so the decision tree cannot effectively identify them from others. But compared to 0.04 and 0.28 of the baseline model (logistic regression), the decision tree has improved a lot. Meanwhile, the accuracy, weighted average precision, recall, f1-score are 8% higher respectivley. The macro average precision, recall and f1-score are  15%, 14% and 16% higher.\n"
   ]
  },
  {
   "cell_type": "markdown",
   "metadata": {},
   "source": [
    "### Hyperparameter Tuning For The Decision Tree Model"
   ]
  },
  {
   "cell_type": "code",
   "execution_count": null,
   "metadata": {},
   "outputs": [],
   "source": [
    "\n",
    "for g in ParameterGrid(params):\n",
    "    decision_tree.set_params(**g)\n",
    "    decision_tree.fit(X_train, y_train)  \n",
    "    pred_y_train = decision_tree.predict(X_train)\n",
    "    pred_y_val = decision_tree.predict(X_val)\n",
    "    \n",
    "    #macro f1 scores\n",
    "    f1_score_train.append(f1_score(y_train, pred_y_train,average = 'macro'))\n",
    "    f1_score_val.append(f1_score(y_val, pred_y_val,average = 'macro'))\n",
    "    \n",
    "    #accuracy scores\n",
    "    acc_score_train.append(acc(y_train, pred_y_train))\n",
    "    acc_score_trainval.append(acc(y_val, pred_y_val))\n",
    "     "
   ]
  },
  {
   "cell_type": "code",
   "execution_count": 250,
   "metadata": {},
   "outputs": [],
   "source": [
    "params = {'max_depth': np.arange(10,60,3)}\n",
    "\n",
    "\n",
    "decision_tree = tree.DecisionTreeClassifier(criterion = 'entropy',random_state= 42)\n",
    "best_score = 0\n",
    "\n",
    "f1_score_train = []\n",
    "f1_score_val = []\n",
    "\n",
    "acc_score_train = []\n",
    "acc_score_trainval = []\n",
    "\n",
    "# perform brute-force grid search to try out all parameters\n",
    "for g in ParameterGrid(params):\n",
    "    decision_tree.set_params(**g)\n",
    "    decision_tree.fit(X_train, y_train)  \n",
    "    pred_y_train = decision_tree.predict(X_train)\n",
    "    pred_y_val = decision_tree.predict(X_val)\n",
    "    \n",
    "    #macro f1 scores\n",
    "    f1_score_train.append(f1_score(y_train, pred_y_train,average = 'macro'))\n",
    "    f1_score_val.append(f1_score(y_val, pred_y_val,average = 'macro'))\n",
    "    \n",
    "    #accuracy scores\n",
    "    acc_score_train.append(acc(y_train, pred_y_train))\n",
    "    acc_score_trainval.append(acc(y_val, pred_y_val))\n",
    "     "
   ]
  },
  {
   "cell_type": "code",
   "execution_count": 320,
   "metadata": {},
   "outputs": [
    {
     "data": {
      "image/png": "[encoded data removed]",
      "text/plain": [
       "<Figure size 720x432 with 1 Axes>"
      ]
     },
     "metadata": {
      "needs_background": "light"
     },
     "output_type": "display_data"
    }
   ],
   "source": [
    "#plot the f1 socres \n",
    "plt.plot(np.arange(10,60,3),f1_score_train,marker='.',label = 'training')\n",
    "plt.plot(np.arange(10,60,3),f1_score_val,marker='.',label = 'validation')\n",
    "plt.legend()\n",
    "plt.xlabel('max_depth')\n",
    "plt.title('Marco f1-score')\n",
    "plt.show()"
   ]
  },
  {
   "cell_type": "markdown",
   "metadata": {},
   "source": [
    "The model at max depth 19 seems to perform the best. The gap between training score and validation score becomes bigger and slowly stablize after 19."
   ]
  },
  {
   "cell_type": "code",
   "execution_count": 252,
   "metadata": {},
   "outputs": [],
   "source": [
    "best_decision_tree = tree.DecisionTreeClassifier(criterion = 'entropy',max_depth = 19,random_state= 42)\n",
    "best_decision_tree.fit(X_train,y_train)\n",
    "pred_y_train = best_decision_tree.predict(X_train)\n",
    "pred_y_val = best_decision_tree.predict(X_val)"
   ]
  },
  {
   "cell_type": "code",
   "execution_count": 253,
   "metadata": {},
   "outputs": [
    {
     "name": "stdout",
     "output_type": "stream",
     "text": [
      "              precision    recall  f1-score   support\n",
      "\n",
      "           1       0.95      0.93      0.94    135578\n",
      "           2       0.95      0.97      0.96    181312\n",
      "           3       0.99      0.99      0.99     22882\n",
      "           4       1.00      0.97      0.99      1759\n",
      "           5       0.97      0.94      0.95      6075\n",
      "           6       0.99      0.98      0.98     11115\n",
      "           7       0.99      0.98      0.99     13126\n",
      "\n",
      "    accuracy                           0.96    371847\n",
      "   macro avg       0.98      0.97      0.97    371847\n",
      "weighted avg       0.96      0.96      0.96    371847\n",
      "\n"
     ]
    }
   ],
   "source": [
    "print(classification_report(y_train,pred_y_train))"
   ]
  },
  {
   "cell_type": "code",
   "execution_count": 254,
   "metadata": {},
   "outputs": [
    {
     "name": "stdout",
     "output_type": "stream",
     "text": [
      "              precision    recall  f1-score   support\n",
      "\n",
      "           1       0.91      0.89      0.90     33894\n",
      "           2       0.91      0.93      0.92     45328\n",
      "           3       0.92      0.93      0.92      5721\n",
      "           4       0.85      0.82      0.83       439\n",
      "           5       0.81      0.79      0.80      1519\n",
      "           6       0.88      0.86      0.87      2779\n",
      "           7       0.95      0.93      0.94      3282\n",
      "\n",
      "    accuracy                           0.91     92962\n",
      "   macro avg       0.89      0.88      0.88     92962\n",
      "weighted avg       0.91      0.91      0.91     92962\n",
      "\n"
     ]
    }
   ],
   "source": [
    "print(classification_report(y_val,pred_y_val))"
   ]
  },
  {
   "cell_type": "code",
   "execution_count": 255,
   "metadata": {},
   "outputs": [
    {
     "data": {
      "image/png": "[encoded data removed]",
      "text/plain": [
       "<Figure size 720x720 with 2 Axes>"
      ]
     },
     "metadata": {
      "needs_background": "light"
     },
     "output_type": "display_data"
    }
   ],
   "source": [
    "fig,ax = plt.subplots(figsize=(10, 10))\n",
    "plot_confusion_matrix(best_decision_tree,X_val,y_val,cmap=plt.cm.Blues,ax = ax,normalize = 'true')\n",
    "plt.show()"
   ]
  },
  {
   "cell_type": "markdown",
   "metadata": {},
   "source": [
    "The decision tree with max depth 19 has a great improvment comprehensively on both of the training set of validation set. Compared to the one with max depth 10, the accuracy, macro average f1_score, and weighted average f1_score on the validation set have improved by 11%, 18% and 10%, respectively. In particular, the model has successfully learned more difference between the majorities and minorities. Far less samples belonging to class 4 and 5 are misclassified, given  recalls of these two classes rising by 46% and 43%."
   ]
  },
  {
   "cell_type": "markdown",
   "metadata": {},
   "source": [
    "## Random Forest Model"
   ]
  },
  {
   "cell_type": "code",
   "execution_count": 257,
   "metadata": {},
   "outputs": [],
   "source": [
    "#fit a random forest model with default values\n",
    "random_forest = RandomForestClassifier()\n",
    "random_forest.fit(X_train,y_train)\n",
    "\n",
    "pred_y_train = random_forest.predict(X_train)\n",
    "pred_y_val = random_forest.predict(X_val)"
   ]
  },
  {
   "cell_type": "code",
   "execution_count": 258,
   "metadata": {},
   "outputs": [
    {
     "name": "stdout",
     "output_type": "stream",
     "text": [
      "              precision    recall  f1-score   support\n",
      "\n",
      "           1       1.00      1.00      1.00    135578\n",
      "           2       1.00      1.00      1.00    181312\n",
      "           3       1.00      1.00      1.00     22882\n",
      "           4       1.00      1.00      1.00      1759\n",
      "           5       1.00      1.00      1.00      6075\n",
      "           6       1.00      1.00      1.00     11115\n",
      "           7       1.00      1.00      1.00     13126\n",
      "\n",
      "    accuracy                           1.00    371847\n",
      "   macro avg       1.00      1.00      1.00    371847\n",
      "weighted avg       1.00      1.00      1.00    371847\n",
      "\n"
     ]
    }
   ],
   "source": [
    "print(classification_report(y_train,pred_y_train))\n"
   ]
  },
  {
   "cell_type": "code",
   "execution_count": 259,
   "metadata": {},
   "outputs": [
    {
     "name": "stdout",
     "output_type": "stream",
     "text": [
      "              precision    recall  f1-score   support\n",
      "\n",
      "           1       0.96      0.94      0.95     33894\n",
      "           2       0.94      0.97      0.96     45328\n",
      "           3       0.94      0.96      0.95      5721\n",
      "           4       0.91      0.85      0.88       439\n",
      "           5       0.91      0.75      0.82      1519\n",
      "           6       0.92      0.89      0.91      2779\n",
      "           7       0.97      0.94      0.96      3282\n",
      "\n",
      "    accuracy                           0.95     92962\n",
      "   macro avg       0.94      0.90      0.92     92962\n",
      "weighted avg       0.95      0.95      0.95     92962\n",
      "\n"
     ]
    }
   ],
   "source": [
    "print(classification_report(y_val,pred_y_val))"
   ]
  },
  {
   "cell_type": "markdown",
   "metadata": {},
   "source": [
    "The random forest model seems overfitting, but it captures more variance over different forest cover types. It might be a good candidate with optimal paramters. "
   ]
  },
  {
   "cell_type": "markdown",
   "metadata": {},
   "source": [
    "### Hyperparameter Tuning for The Random Forest Model"
   ]
  },
  {
   "cell_type": "code",
   "execution_count": 310,
   "metadata": {},
   "outputs": [
    {
     "name": "stdout",
     "output_type": "stream",
     "text": [
      "Fitting 1 folds for each of 30 candidates, totalling 30 fits\n"
     ]
    },
    {
     "name": "stderr",
     "output_type": "stream",
     "text": [
      "[Parallel(n_jobs=-1)]: Using backend LokyBackend with 4 concurrent workers.\n",
      "[Parallel(n_jobs=-1)]: Done   5 tasks      | elapsed:  5.1min\n",
      "[Parallel(n_jobs=-1)]: Done  10 tasks      | elapsed: 13.0min\n",
      "[Parallel(n_jobs=-1)]: Done  17 tasks      | elapsed: 20.9min\n",
      "[Parallel(n_jobs=-1)]: Done  27 out of  30 | elapsed: 31.7min remaining:  3.5min\n",
      "[Parallel(n_jobs=-1)]: Done  30 out of  30 | elapsed: 33.5min finished\n"
     ]
    },
    {
     "data": {
      "text/plain": [
       "{'max_depth': 25, 'n_estimators': 100}"
      ]
     },
     "execution_count": 310,
     "metadata": {},
     "output_type": "execute_result"
    }
   ],
   "source": [
    "params = {'n_estimators': [int(x) for x in np.linspace(start = 50, stop = 100,num = 6)],\n",
    "          'max_depth' : [14,17,19,22,25]}\n",
    "         \n",
    "\n",
    "#append the training set and validation set in order to adapt for the RandomForestClassifier\n",
    "#our validaiton set is predefined and we don't want RandomForestClassifier validate using our training set\n",
    "X_train_val = X_train.append(X_val)\n",
    "y_train_val = y_train.append(y_val)\n",
    "\n",
    "#set the index of the predefined set to 0, so the RandomizedSearchCV will not train on the predefined validation set\n",
    "predefined_folds = np.zeros(X_train_val.shape[0])\n",
    "#set the index of the training set to -1\n",
    "predefined_folds[:X_train.shape[0]] = -1\n",
    "pfs = PredefinedSplit(test_fold = predefined_folds) \n",
    "  \n",
    "    \n",
    "\n",
    "####Hyperparameter Tuning by randomizedd search\n",
    "random_forest = RandomForestClassifier(criterion = 'entropy',\n",
    "                                       max_depth = 19,\n",
    "                                       random_state = 42)\n",
    "\n",
    "rs1 = GridSearchCV(estimator = random_forest,\n",
    "                        param_grid = params,\n",
    "                        scoring='f1_micro',\n",
    "                        cv = pfs,\n",
    "                        verbose= 10,\n",
    "                        n_jobs= -1)\n",
    "\n",
    "rs1.fit(X_train_val,y_train_val)\n",
    "rs1.best_params_\n"
   ]
  },
  {
   "cell_type": "code",
   "execution_count": 317,
   "metadata": {},
   "outputs": [
    {
     "data": {
      "text/html": [
       "<div>\n",
       "<style scoped>\n",
       "    .dataframe tbody tr th:only-of-type {\n",
       "        vertical-align: middle;\n",
       "    }\n",
       "\n",
       "    .dataframe tbody tr th {\n",
       "        vertical-align: top;\n",
       "    }\n",
       "\n",
       "    .dataframe thead th {\n",
       "        text-align: right;\n",
       "    }\n",
       "</style>\n",
       "<table border=\"1\" class=\"dataframe\">\n",
       "  <thead>\n",
       "    <tr style=\"text-align: right;\">\n",
       "      <th></th>\n",
       "      <th>mean_fit_time</th>\n",
       "      <th>std_fit_time</th>\n",
       "      <th>mean_score_time</th>\n",
       "      <th>std_score_time</th>\n",
       "      <th>param_max_depth</th>\n",
       "      <th>param_n_estimators</th>\n",
       "      <th>params</th>\n",
       "      <th>split0_test_score</th>\n",
       "      <th>mean_test_score</th>\n",
       "      <th>std_test_score</th>\n",
       "      <th>rank_test_score</th>\n",
       "    </tr>\n",
       "  </thead>\n",
       "  <tbody>\n",
       "    <tr>\n",
       "      <th>0</th>\n",
       "      <td>113.127481</td>\n",
       "      <td>0.0</td>\n",
       "      <td>1.523234</td>\n",
       "      <td>0.0</td>\n",
       "      <td>14</td>\n",
       "      <td>50</td>\n",
       "      <td>{'max_depth': 14, 'n_estimators': 50}</td>\n",
       "      <td>0.860201</td>\n",
       "      <td>0.860201</td>\n",
       "      <td>0.0</td>\n",
       "      <td>30</td>\n",
       "    </tr>\n",
       "    <tr>\n",
       "      <th>1</th>\n",
       "      <td>138.756643</td>\n",
       "      <td>0.0</td>\n",
       "      <td>1.978857</td>\n",
       "      <td>0.0</td>\n",
       "      <td>14</td>\n",
       "      <td>60</td>\n",
       "      <td>{'max_depth': 14, 'n_estimators': 60}</td>\n",
       "      <td>0.861244</td>\n",
       "      <td>0.861244</td>\n",
       "      <td>0.0</td>\n",
       "      <td>29</td>\n",
       "    </tr>\n",
       "    <tr>\n",
       "      <th>2</th>\n",
       "      <td>162.409169</td>\n",
       "      <td>0.0</td>\n",
       "      <td>2.299594</td>\n",
       "      <td>0.0</td>\n",
       "      <td>14</td>\n",
       "      <td>70</td>\n",
       "      <td>{'max_depth': 14, 'n_estimators': 70}</td>\n",
       "      <td>0.861287</td>\n",
       "      <td>0.861287</td>\n",
       "      <td>0.0</td>\n",
       "      <td>28</td>\n",
       "    </tr>\n",
       "    <tr>\n",
       "      <th>3</th>\n",
       "      <td>183.792526</td>\n",
       "      <td>0.0</td>\n",
       "      <td>2.505160</td>\n",
       "      <td>0.0</td>\n",
       "      <td>14</td>\n",
       "      <td>80</td>\n",
       "      <td>{'max_depth': 14, 'n_estimators': 80}</td>\n",
       "      <td>0.861653</td>\n",
       "      <td>0.861653</td>\n",
       "      <td>0.0</td>\n",
       "      <td>25</td>\n",
       "    </tr>\n",
       "    <tr>\n",
       "      <th>4</th>\n",
       "      <td>216.308945</td>\n",
       "      <td>0.0</td>\n",
       "      <td>2.836843</td>\n",
       "      <td>0.0</td>\n",
       "      <td>14</td>\n",
       "      <td>90</td>\n",
       "      <td>{'max_depth': 14, 'n_estimators': 90}</td>\n",
       "      <td>0.861642</td>\n",
       "      <td>0.861642</td>\n",
       "      <td>0.0</td>\n",
       "      <td>26</td>\n",
       "    </tr>\n",
       "    <tr>\n",
       "      <th>5</th>\n",
       "      <td>245.786364</td>\n",
       "      <td>0.0</td>\n",
       "      <td>6.760501</td>\n",
       "      <td>0.0</td>\n",
       "      <td>14</td>\n",
       "      <td>100</td>\n",
       "      <td>{'max_depth': 14, 'n_estimators': 100}</td>\n",
       "      <td>0.861416</td>\n",
       "      <td>0.861416</td>\n",
       "      <td>0.0</td>\n",
       "      <td>27</td>\n",
       "    </tr>\n",
       "    <tr>\n",
       "      <th>6</th>\n",
       "      <td>138.727249</td>\n",
       "      <td>0.0</td>\n",
       "      <td>1.770809</td>\n",
       "      <td>0.0</td>\n",
       "      <td>17</td>\n",
       "      <td>50</td>\n",
       "      <td>{'max_depth': 17, 'n_estimators': 50}</td>\n",
       "      <td>0.900723</td>\n",
       "      <td>0.900723</td>\n",
       "      <td>0.0</td>\n",
       "      <td>24</td>\n",
       "    </tr>\n",
       "    <tr>\n",
       "      <th>7</th>\n",
       "      <td>162.886421</td>\n",
       "      <td>0.0</td>\n",
       "      <td>1.985911</td>\n",
       "      <td>0.0</td>\n",
       "      <td>17</td>\n",
       "      <td>60</td>\n",
       "      <td>{'max_depth': 17, 'n_estimators': 60}</td>\n",
       "      <td>0.902444</td>\n",
       "      <td>0.902444</td>\n",
       "      <td>0.0</td>\n",
       "      <td>23</td>\n",
       "    </tr>\n",
       "    <tr>\n",
       "      <th>8</th>\n",
       "      <td>338.263797</td>\n",
       "      <td>0.0</td>\n",
       "      <td>3.142183</td>\n",
       "      <td>0.0</td>\n",
       "      <td>17</td>\n",
       "      <td>70</td>\n",
       "      <td>{'max_depth': 17, 'n_estimators': 70}</td>\n",
       "      <td>0.903595</td>\n",
       "      <td>0.903595</td>\n",
       "      <td>0.0</td>\n",
       "      <td>19</td>\n",
       "    </tr>\n",
       "    <tr>\n",
       "      <th>9</th>\n",
       "      <td>435.060446</td>\n",
       "      <td>0.0</td>\n",
       "      <td>5.792599</td>\n",
       "      <td>0.0</td>\n",
       "      <td>17</td>\n",
       "      <td>80</td>\n",
       "      <td>{'max_depth': 17, 'n_estimators': 80}</td>\n",
       "      <td>0.903401</td>\n",
       "      <td>0.903401</td>\n",
       "      <td>0.0</td>\n",
       "      <td>20</td>\n",
       "    </tr>\n",
       "    <tr>\n",
       "      <th>10</th>\n",
       "      <td>487.702038</td>\n",
       "      <td>0.0</td>\n",
       "      <td>4.950918</td>\n",
       "      <td>0.0</td>\n",
       "      <td>17</td>\n",
       "      <td>90</td>\n",
       "      <td>{'max_depth': 17, 'n_estimators': 90}</td>\n",
       "      <td>0.902842</td>\n",
       "      <td>0.902842</td>\n",
       "      <td>0.0</td>\n",
       "      <td>21</td>\n",
       "    </tr>\n",
       "    <tr>\n",
       "      <th>11</th>\n",
       "      <td>501.070074</td>\n",
       "      <td>0.0</td>\n",
       "      <td>4.338965</td>\n",
       "      <td>0.0</td>\n",
       "      <td>17</td>\n",
       "      <td>100</td>\n",
       "      <td>{'max_depth': 17, 'n_estimators': 100}</td>\n",
       "      <td>0.902605</td>\n",
       "      <td>0.902605</td>\n",
       "      <td>0.0</td>\n",
       "      <td>22</td>\n",
       "    </tr>\n",
       "    <tr>\n",
       "      <th>12</th>\n",
       "      <td>231.128896</td>\n",
       "      <td>0.0</td>\n",
       "      <td>2.817538</td>\n",
       "      <td>0.0</td>\n",
       "      <td>19</td>\n",
       "      <td>50</td>\n",
       "      <td>{'max_depth': 19, 'n_estimators': 50}</td>\n",
       "      <td>0.921204</td>\n",
       "      <td>0.921204</td>\n",
       "      <td>0.0</td>\n",
       "      <td>18</td>\n",
       "    </tr>\n",
       "    <tr>\n",
       "      <th>13</th>\n",
       "      <td>261.428056</td>\n",
       "      <td>0.0</td>\n",
       "      <td>3.865181</td>\n",
       "      <td>0.0</td>\n",
       "      <td>19</td>\n",
       "      <td>60</td>\n",
       "      <td>{'max_depth': 19, 'n_estimators': 60}</td>\n",
       "      <td>0.921914</td>\n",
       "      <td>0.921914</td>\n",
       "      <td>0.0</td>\n",
       "      <td>17</td>\n",
       "    </tr>\n",
       "    <tr>\n",
       "      <th>14</th>\n",
       "      <td>264.566661</td>\n",
       "      <td>0.0</td>\n",
       "      <td>3.861492</td>\n",
       "      <td>0.0</td>\n",
       "      <td>19</td>\n",
       "      <td>70</td>\n",
       "      <td>{'max_depth': 19, 'n_estimators': 70}</td>\n",
       "      <td>0.922000</td>\n",
       "      <td>0.922000</td>\n",
       "      <td>0.0</td>\n",
       "      <td>16</td>\n",
       "    </tr>\n",
       "    <tr>\n",
       "      <th>15</th>\n",
       "      <td>306.816527</td>\n",
       "      <td>0.0</td>\n",
       "      <td>6.893341</td>\n",
       "      <td>0.0</td>\n",
       "      <td>19</td>\n",
       "      <td>80</td>\n",
       "      <td>{'max_depth': 19, 'n_estimators': 80}</td>\n",
       "      <td>0.922463</td>\n",
       "      <td>0.922463</td>\n",
       "      <td>0.0</td>\n",
       "      <td>15</td>\n",
       "    </tr>\n",
       "    <tr>\n",
       "      <th>16</th>\n",
       "      <td>343.837179</td>\n",
       "      <td>0.0</td>\n",
       "      <td>4.272064</td>\n",
       "      <td>0.0</td>\n",
       "      <td>19</td>\n",
       "      <td>90</td>\n",
       "      <td>{'max_depth': 19, 'n_estimators': 90}</td>\n",
       "      <td>0.923087</td>\n",
       "      <td>0.923087</td>\n",
       "      <td>0.0</td>\n",
       "      <td>13</td>\n",
       "    </tr>\n",
       "    <tr>\n",
       "      <th>17</th>\n",
       "      <td>307.960303</td>\n",
       "      <td>0.0</td>\n",
       "      <td>5.121481</td>\n",
       "      <td>0.0</td>\n",
       "      <td>19</td>\n",
       "      <td>100</td>\n",
       "      <td>{'max_depth': 19, 'n_estimators': 100}</td>\n",
       "      <td>0.922850</td>\n",
       "      <td>0.922850</td>\n",
       "      <td>0.0</td>\n",
       "      <td>14</td>\n",
       "    </tr>\n",
       "    <tr>\n",
       "      <th>18</th>\n",
       "      <td>171.742209</td>\n",
       "      <td>0.0</td>\n",
       "      <td>3.308925</td>\n",
       "      <td>0.0</td>\n",
       "      <td>22</td>\n",
       "      <td>50</td>\n",
       "      <td>{'max_depth': 22, 'n_estimators': 50}</td>\n",
       "      <td>0.938932</td>\n",
       "      <td>0.938932</td>\n",
       "      <td>0.0</td>\n",
       "      <td>12</td>\n",
       "    </tr>\n",
       "    <tr>\n",
       "      <th>19</th>\n",
       "      <td>188.809856</td>\n",
       "      <td>0.0</td>\n",
       "      <td>3.212976</td>\n",
       "      <td>0.0</td>\n",
       "      <td>22</td>\n",
       "      <td>60</td>\n",
       "      <td>{'max_depth': 22, 'n_estimators': 60}</td>\n",
       "      <td>0.939072</td>\n",
       "      <td>0.939072</td>\n",
       "      <td>0.0</td>\n",
       "      <td>11</td>\n",
       "    </tr>\n",
       "    <tr>\n",
       "      <th>20</th>\n",
       "      <td>218.648890</td>\n",
       "      <td>0.0</td>\n",
       "      <td>3.566275</td>\n",
       "      <td>0.0</td>\n",
       "      <td>22</td>\n",
       "      <td>70</td>\n",
       "      <td>{'max_depth': 22, 'n_estimators': 70}</td>\n",
       "      <td>0.939760</td>\n",
       "      <td>0.939760</td>\n",
       "      <td>0.0</td>\n",
       "      <td>10</td>\n",
       "    </tr>\n",
       "    <tr>\n",
       "      <th>21</th>\n",
       "      <td>248.220246</td>\n",
       "      <td>0.0</td>\n",
       "      <td>4.349596</td>\n",
       "      <td>0.0</td>\n",
       "      <td>22</td>\n",
       "      <td>80</td>\n",
       "      <td>{'max_depth': 22, 'n_estimators': 80}</td>\n",
       "      <td>0.940309</td>\n",
       "      <td>0.940309</td>\n",
       "      <td>0.0</td>\n",
       "      <td>9</td>\n",
       "    </tr>\n",
       "    <tr>\n",
       "      <th>22</th>\n",
       "      <td>273.184463</td>\n",
       "      <td>0.0</td>\n",
       "      <td>6.680032</td>\n",
       "      <td>0.0</td>\n",
       "      <td>22</td>\n",
       "      <td>90</td>\n",
       "      <td>{'max_depth': 22, 'n_estimators': 90}</td>\n",
       "      <td>0.940417</td>\n",
       "      <td>0.940417</td>\n",
       "      <td>0.0</td>\n",
       "      <td>8</td>\n",
       "    </tr>\n",
       "    <tr>\n",
       "      <th>23</th>\n",
       "      <td>303.724402</td>\n",
       "      <td>0.0</td>\n",
       "      <td>6.406981</td>\n",
       "      <td>0.0</td>\n",
       "      <td>22</td>\n",
       "      <td>100</td>\n",
       "      <td>{'max_depth': 22, 'n_estimators': 100}</td>\n",
       "      <td>0.940621</td>\n",
       "      <td>0.940621</td>\n",
       "      <td>0.0</td>\n",
       "      <td>7</td>\n",
       "    </tr>\n",
       "    <tr>\n",
       "      <th>24</th>\n",
       "      <td>154.288422</td>\n",
       "      <td>0.0</td>\n",
       "      <td>3.323682</td>\n",
       "      <td>0.0</td>\n",
       "      <td>25</td>\n",
       "      <td>50</td>\n",
       "      <td>{'max_depth': 25, 'n_estimators': 50}</td>\n",
       "      <td>0.946591</td>\n",
       "      <td>0.946591</td>\n",
       "      <td>0.0</td>\n",
       "      <td>6</td>\n",
       "    </tr>\n",
       "    <tr>\n",
       "      <th>25</th>\n",
       "      <td>181.969792</td>\n",
       "      <td>0.0</td>\n",
       "      <td>3.296677</td>\n",
       "      <td>0.0</td>\n",
       "      <td>25</td>\n",
       "      <td>60</td>\n",
       "      <td>{'max_depth': 25, 'n_estimators': 60}</td>\n",
       "      <td>0.946806</td>\n",
       "      <td>0.946806</td>\n",
       "      <td>0.0</td>\n",
       "      <td>5</td>\n",
       "    </tr>\n",
       "    <tr>\n",
       "      <th>26</th>\n",
       "      <td>268.050974</td>\n",
       "      <td>0.0</td>\n",
       "      <td>4.629039</td>\n",
       "      <td>0.0</td>\n",
       "      <td>25</td>\n",
       "      <td>70</td>\n",
       "      <td>{'max_depth': 25, 'n_estimators': 70}</td>\n",
       "      <td>0.947355</td>\n",
       "      <td>0.947355</td>\n",
       "      <td>0.0</td>\n",
       "      <td>4</td>\n",
       "    </tr>\n",
       "    <tr>\n",
       "      <th>27</th>\n",
       "      <td>292.292142</td>\n",
       "      <td>0.0</td>\n",
       "      <td>4.516961</td>\n",
       "      <td>0.0</td>\n",
       "      <td>25</td>\n",
       "      <td>80</td>\n",
       "      <td>{'max_depth': 25, 'n_estimators': 80}</td>\n",
       "      <td>0.947430</td>\n",
       "      <td>0.947430</td>\n",
       "      <td>0.0</td>\n",
       "      <td>3</td>\n",
       "    </tr>\n",
       "    <tr>\n",
       "      <th>28</th>\n",
       "      <td>275.738822</td>\n",
       "      <td>0.0</td>\n",
       "      <td>3.669520</td>\n",
       "      <td>0.0</td>\n",
       "      <td>25</td>\n",
       "      <td>90</td>\n",
       "      <td>{'max_depth': 25, 'n_estimators': 90}</td>\n",
       "      <td>0.947764</td>\n",
       "      <td>0.947764</td>\n",
       "      <td>0.0</td>\n",
       "      <td>2</td>\n",
       "    </tr>\n",
       "    <tr>\n",
       "      <th>29</th>\n",
       "      <td>273.604571</td>\n",
       "      <td>0.0</td>\n",
       "      <td>3.907453</td>\n",
       "      <td>0.0</td>\n",
       "      <td>25</td>\n",
       "      <td>100</td>\n",
       "      <td>{'max_depth': 25, 'n_estimators': 100}</td>\n",
       "      <td>0.948086</td>\n",
       "      <td>0.948086</td>\n",
       "      <td>0.0</td>\n",
       "      <td>1</td>\n",
       "    </tr>\n",
       "  </tbody>\n",
       "</table>\n",
       "</div>"
      ],
      "text/plain": [
       "    mean_fit_time  std_fit_time  mean_score_time  std_score_time  \\\n",
       "0      113.127481           0.0         1.523234             0.0   \n",
       "1      138.756643           0.0         1.978857             0.0   \n",
       "2      162.409169           0.0         2.299594             0.0   \n",
       "3      183.792526           0.0         2.505160             0.0   \n",
       "4      216.308945           0.0         2.836843             0.0   \n",
       "5      245.786364           0.0         6.760501             0.0   \n",
       "6      138.727249           0.0         1.770809             0.0   \n",
       "7      162.886421           0.0         1.985911             0.0   \n",
       "8      338.263797           0.0         3.142183             0.0   \n",
       "9      435.060446           0.0         5.792599             0.0   \n",
       "10     487.702038           0.0         4.950918             0.0   \n",
       "11     501.070074           0.0         4.338965             0.0   \n",
       "12     231.128896           0.0         2.817538             0.0   \n",
       "13     261.428056           0.0         3.865181             0.0   \n",
       "14     264.566661           0.0         3.861492             0.0   \n",
       "15     306.816527           0.0         6.893341             0.0   \n",
       "16     343.837179           0.0         4.272064             0.0   \n",
       "17     307.960303           0.0         5.121481             0.0   \n",
       "18     171.742209           0.0         3.308925             0.0   \n",
       "19     188.809856           0.0         3.212976             0.0   \n",
       "20     218.648890           0.0         3.566275             0.0   \n",
       "21     248.220246           0.0         4.349596             0.0   \n",
       "22     273.184463           0.0         6.680032             0.0   \n",
       "23     303.724402           0.0         6.406981             0.0   \n",
       "24     154.288422           0.0         3.323682             0.0   \n",
       "25     181.969792           0.0         3.296677             0.0   \n",
       "26     268.050974           0.0         4.629039             0.0   \n",
       "27     292.292142           0.0         4.516961             0.0   \n",
       "28     275.738822           0.0         3.669520             0.0   \n",
       "29     273.604571           0.0         3.907453             0.0   \n",
       "\n",
       "   param_max_depth param_n_estimators                                  params  \\\n",
       "0               14                 50   {'max_depth': 14, 'n_estimators': 50}   \n",
       "1               14                 60   {'max_depth': 14, 'n_estimators': 60}   \n",
       "2               14                 70   {'max_depth': 14, 'n_estimators': 70}   \n",
       "3               14                 80   {'max_depth': 14, 'n_estimators': 80}   \n",
       "4               14                 90   {'max_depth': 14, 'n_estimators': 90}   \n",
       "5               14                100  {'max_depth': 14, 'n_estimators': 100}   \n",
       "6               17                 50   {'max_depth': 17, 'n_estimators': 50}   \n",
       "7               17                 60   {'max_depth': 17, 'n_estimators': 60}   \n",
       "8               17                 70   {'max_depth': 17, 'n_estimators': 70}   \n",
       "9               17                 80   {'max_depth': 17, 'n_estimators': 80}   \n",
       "10              17                 90   {'max_depth': 17, 'n_estimators': 90}   \n",
       "11              17                100  {'max_depth': 17, 'n_estimators': 100}   \n",
       "12              19                 50   {'max_depth': 19, 'n_estimators': 50}   \n",
       "13              19                 60   {'max_depth': 19, 'n_estimators': 60}   \n",
       "14              19                 70   {'max_depth': 19, 'n_estimators': 70}   \n",
       "15              19                 80   {'max_depth': 19, 'n_estimators': 80}   \n",
       "16              19                 90   {'max_depth': 19, 'n_estimators': 90}   \n",
       "17              19                100  {'max_depth': 19, 'n_estimators': 100}   \n",
       "18              22                 50   {'max_depth': 22, 'n_estimators': 50}   \n",
       "19              22                 60   {'max_depth': 22, 'n_estimators': 60}   \n",
       "20              22                 70   {'max_depth': 22, 'n_estimators': 70}   \n",
       "21              22                 80   {'max_depth': 22, 'n_estimators': 80}   \n",
       "22              22                 90   {'max_depth': 22, 'n_estimators': 90}   \n",
       "23              22                100  {'max_depth': 22, 'n_estimators': 100}   \n",
       "24              25                 50   {'max_depth': 25, 'n_estimators': 50}   \n",
       "25              25                 60   {'max_depth': 25, 'n_estimators': 60}   \n",
       "26              25                 70   {'max_depth': 25, 'n_estimators': 70}   \n",
       "27              25                 80   {'max_depth': 25, 'n_estimators': 80}   \n",
       "28              25                 90   {'max_depth': 25, 'n_estimators': 90}   \n",
       "29              25                100  {'max_depth': 25, 'n_estimators': 100}   \n",
       "\n",
       "    split0_test_score  mean_test_score  std_test_score  rank_test_score  \n",
       "0            0.860201         0.860201             0.0               30  \n",
       "1            0.861244         0.861244             0.0               29  \n",
       "2            0.861287         0.861287             0.0               28  \n",
       "3            0.861653         0.861653             0.0               25  \n",
       "4            0.861642         0.861642             0.0               26  \n",
       "5            0.861416         0.861416             0.0               27  \n",
       "6            0.900723         0.900723             0.0               24  \n",
       "7            0.902444         0.902444             0.0               23  \n",
       "8            0.903595         0.903595             0.0               19  \n",
       "9            0.903401         0.903401             0.0               20  \n",
       "10           0.902842         0.902842             0.0               21  \n",
       "11           0.902605         0.902605             0.0               22  \n",
       "12           0.921204         0.921204             0.0               18  \n",
       "13           0.921914         0.921914             0.0               17  \n",
       "14           0.922000         0.922000             0.0               16  \n",
       "15           0.922463         0.922463             0.0               15  \n",
       "16           0.923087         0.923087             0.0               13  \n",
       "17           0.922850         0.922850             0.0               14  \n",
       "18           0.938932         0.938932             0.0               12  \n",
       "19           0.939072         0.939072             0.0               11  \n",
       "20           0.939760         0.939760             0.0               10  \n",
       "21           0.940309         0.940309             0.0                9  \n",
       "22           0.940417         0.940417             0.0                8  \n",
       "23           0.940621         0.940621             0.0                7  \n",
       "24           0.946591         0.946591             0.0                6  \n",
       "25           0.946806         0.946806             0.0                5  \n",
       "26           0.947355         0.947355             0.0                4  \n",
       "27           0.947430         0.947430             0.0                3  \n",
       "28           0.947764         0.947764             0.0                2  \n",
       "29           0.948086         0.948086             0.0                1  "
      ]
     },
     "execution_count": 317,
     "metadata": {},
     "output_type": "execute_result"
    }
   ],
   "source": [
    "pd.DataFrame(rs1.cv_results_)"
   ]
  },
  {
   "cell_type": "code",
   "execution_count": 300,
   "metadata": {},
   "outputs": [
    {
     "ename": "KeyboardInterrupt",
     "evalue": "",
     "output_type": "error",
     "traceback": [
      "\u001b[0;31m---------------------------------------------------------------------------\u001b[0m",
      "\u001b[0;31mKeyboardInterrupt\u001b[0m                         Traceback (most recent call last)",
      "\u001b[0;32m<ipython-input-300-5006044aa541>\u001b[0m in \u001b[0;36m<module>\u001b[0;34m\u001b[0m\n\u001b[1;32m      5\u001b[0m \u001b[0;34m\u001b[0m\u001b[0m\n\u001b[1;32m      6\u001b[0m \u001b[0;31m#random_forest1.set_params(**rs1.best_params_)\u001b[0m\u001b[0;34m\u001b[0m\u001b[0;34m\u001b[0m\u001b[0;34m\u001b[0m\u001b[0m\n\u001b[0;32m----> 7\u001b[0;31m \u001b[0mrandom_forest1\u001b[0m\u001b[0;34m.\u001b[0m\u001b[0mfit\u001b[0m\u001b[0;34m(\u001b[0m\u001b[0mX_train\u001b[0m\u001b[0;34m,\u001b[0m\u001b[0my_train\u001b[0m\u001b[0;34m)\u001b[0m\u001b[0;34m\u001b[0m\u001b[0;34m\u001b[0m\u001b[0m\n\u001b[0m\u001b[1;32m      8\u001b[0m \u001b[0mpred_y_train\u001b[0m \u001b[0;34m=\u001b[0m \u001b[0mrandom_forest1\u001b[0m\u001b[0;34m.\u001b[0m\u001b[0mpredict\u001b[0m\u001b[0;34m(\u001b[0m\u001b[0mX_train\u001b[0m\u001b[0;34m)\u001b[0m\u001b[0;34m\u001b[0m\u001b[0;34m\u001b[0m\u001b[0m\n\u001b[1;32m      9\u001b[0m \u001b[0mpred_y_val\u001b[0m \u001b[0;34m=\u001b[0m \u001b[0mrandom_forest1\u001b[0m\u001b[0;34m.\u001b[0m\u001b[0mpredict\u001b[0m\u001b[0;34m(\u001b[0m\u001b[0mX_val\u001b[0m\u001b[0;34m)\u001b[0m\u001b[0;34m\u001b[0m\u001b[0;34m\u001b[0m\u001b[0m\n",
      "\u001b[0;32m/Applications/anaconda3/lib/python3.8/site-packages/sklearn/ensemble/_forest.py\u001b[0m in \u001b[0;36mfit\u001b[0;34m(self, X, y, sample_weight)\u001b[0m\n\u001b[1;32m    384\u001b[0m             \u001b[0;31m# parallel_backend contexts set at a higher level,\u001b[0m\u001b[0;34m\u001b[0m\u001b[0;34m\u001b[0m\u001b[0;34m\u001b[0m\u001b[0m\n\u001b[1;32m    385\u001b[0m             \u001b[0;31m# since correctness does not rely on using threads.\u001b[0m\u001b[0;34m\u001b[0m\u001b[0;34m\u001b[0m\u001b[0;34m\u001b[0m\u001b[0m\n\u001b[0;32m--> 386\u001b[0;31m             trees = Parallel(n_jobs=self.n_jobs, verbose=self.verbose,\n\u001b[0m\u001b[1;32m    387\u001b[0m                              \u001b[0;34m**\u001b[0m\u001b[0m_joblib_parallel_args\u001b[0m\u001b[0;34m(\u001b[0m\u001b[0mprefer\u001b[0m\u001b[0;34m=\u001b[0m\u001b[0;34m'threads'\u001b[0m\u001b[0;34m)\u001b[0m\u001b[0;34m)\u001b[0m\u001b[0;34m(\u001b[0m\u001b[0;34m\u001b[0m\u001b[0;34m\u001b[0m\u001b[0m\n\u001b[1;32m    388\u001b[0m                 delayed(_parallel_build_trees)(\n",
      "\u001b[0;32m/Applications/anaconda3/lib/python3.8/site-packages/joblib/parallel.py\u001b[0m in \u001b[0;36m__call__\u001b[0;34m(self, iterable)\u001b[0m\n\u001b[1;32m   1059\u001b[0m \u001b[0;34m\u001b[0m\u001b[0m\n\u001b[1;32m   1060\u001b[0m             \u001b[0;32mwith\u001b[0m \u001b[0mself\u001b[0m\u001b[0;34m.\u001b[0m\u001b[0m_backend\u001b[0m\u001b[0;34m.\u001b[0m\u001b[0mretrieval_context\u001b[0m\u001b[0;34m(\u001b[0m\u001b[0;34m)\u001b[0m\u001b[0;34m:\u001b[0m\u001b[0;34m\u001b[0m\u001b[0;34m\u001b[0m\u001b[0m\n\u001b[0;32m-> 1061\u001b[0;31m                 \u001b[0mself\u001b[0m\u001b[0;34m.\u001b[0m\u001b[0mretrieve\u001b[0m\u001b[0;34m(\u001b[0m\u001b[0;34m)\u001b[0m\u001b[0;34m\u001b[0m\u001b[0;34m\u001b[0m\u001b[0m\n\u001b[0m\u001b[1;32m   1062\u001b[0m             \u001b[0;31m# Make sure that we get a last message telling us we are done\u001b[0m\u001b[0;34m\u001b[0m\u001b[0;34m\u001b[0m\u001b[0;34m\u001b[0m\u001b[0m\n\u001b[1;32m   1063\u001b[0m             \u001b[0melapsed_time\u001b[0m \u001b[0;34m=\u001b[0m \u001b[0mtime\u001b[0m\u001b[0;34m.\u001b[0m\u001b[0mtime\u001b[0m\u001b[0;34m(\u001b[0m\u001b[0;34m)\u001b[0m \u001b[0;34m-\u001b[0m \u001b[0mself\u001b[0m\u001b[0;34m.\u001b[0m\u001b[0m_start_time\u001b[0m\u001b[0;34m\u001b[0m\u001b[0;34m\u001b[0m\u001b[0m\n",
      "\u001b[0;32m/Applications/anaconda3/lib/python3.8/site-packages/joblib/parallel.py\u001b[0m in \u001b[0;36mretrieve\u001b[0;34m(self)\u001b[0m\n\u001b[1;32m    938\u001b[0m             \u001b[0;32mtry\u001b[0m\u001b[0;34m:\u001b[0m\u001b[0;34m\u001b[0m\u001b[0;34m\u001b[0m\u001b[0m\n\u001b[1;32m    939\u001b[0m                 \u001b[0;32mif\u001b[0m \u001b[0mgetattr\u001b[0m\u001b[0;34m(\u001b[0m\u001b[0mself\u001b[0m\u001b[0;34m.\u001b[0m\u001b[0m_backend\u001b[0m\u001b[0;34m,\u001b[0m \u001b[0;34m'supports_timeout'\u001b[0m\u001b[0;34m,\u001b[0m \u001b[0;32mFalse\u001b[0m\u001b[0;34m)\u001b[0m\u001b[0;34m:\u001b[0m\u001b[0;34m\u001b[0m\u001b[0;34m\u001b[0m\u001b[0m\n\u001b[0;32m--> 940\u001b[0;31m                     \u001b[0mself\u001b[0m\u001b[0;34m.\u001b[0m\u001b[0m_output\u001b[0m\u001b[0;34m.\u001b[0m\u001b[0mextend\u001b[0m\u001b[0;34m(\u001b[0m\u001b[0mjob\u001b[0m\u001b[0;34m.\u001b[0m\u001b[0mget\u001b[0m\u001b[0;34m(\u001b[0m\u001b[0mtimeout\u001b[0m\u001b[0;34m=\u001b[0m\u001b[0mself\u001b[0m\u001b[0;34m.\u001b[0m\u001b[0mtimeout\u001b[0m\u001b[0;34m)\u001b[0m\u001b[0;34m)\u001b[0m\u001b[0;34m\u001b[0m\u001b[0;34m\u001b[0m\u001b[0m\n\u001b[0m\u001b[1;32m    941\u001b[0m                 \u001b[0;32melse\u001b[0m\u001b[0;34m:\u001b[0m\u001b[0;34m\u001b[0m\u001b[0;34m\u001b[0m\u001b[0m\n\u001b[1;32m    942\u001b[0m                     \u001b[0mself\u001b[0m\u001b[0;34m.\u001b[0m\u001b[0m_output\u001b[0m\u001b[0;34m.\u001b[0m\u001b[0mextend\u001b[0m\u001b[0;34m(\u001b[0m\u001b[0mjob\u001b[0m\u001b[0;34m.\u001b[0m\u001b[0mget\u001b[0m\u001b[0;34m(\u001b[0m\u001b[0;34m)\u001b[0m\u001b[0;34m)\u001b[0m\u001b[0;34m\u001b[0m\u001b[0;34m\u001b[0m\u001b[0m\n",
      "\u001b[0;32m/Applications/anaconda3/lib/python3.8/multiprocessing/pool.py\u001b[0m in \u001b[0;36mget\u001b[0;34m(self, timeout)\u001b[0m\n\u001b[1;32m    763\u001b[0m \u001b[0;34m\u001b[0m\u001b[0m\n\u001b[1;32m    764\u001b[0m     \u001b[0;32mdef\u001b[0m \u001b[0mget\u001b[0m\u001b[0;34m(\u001b[0m\u001b[0mself\u001b[0m\u001b[0;34m,\u001b[0m \u001b[0mtimeout\u001b[0m\u001b[0;34m=\u001b[0m\u001b[0;32mNone\u001b[0m\u001b[0;34m)\u001b[0m\u001b[0;34m:\u001b[0m\u001b[0;34m\u001b[0m\u001b[0;34m\u001b[0m\u001b[0m\n\u001b[0;32m--> 765\u001b[0;31m         \u001b[0mself\u001b[0m\u001b[0;34m.\u001b[0m\u001b[0mwait\u001b[0m\u001b[0;34m(\u001b[0m\u001b[0mtimeout\u001b[0m\u001b[0;34m)\u001b[0m\u001b[0;34m\u001b[0m\u001b[0;34m\u001b[0m\u001b[0m\n\u001b[0m\u001b[1;32m    766\u001b[0m         \u001b[0;32mif\u001b[0m \u001b[0;32mnot\u001b[0m \u001b[0mself\u001b[0m\u001b[0;34m.\u001b[0m\u001b[0mready\u001b[0m\u001b[0;34m(\u001b[0m\u001b[0;34m)\u001b[0m\u001b[0;34m:\u001b[0m\u001b[0;34m\u001b[0m\u001b[0;34m\u001b[0m\u001b[0m\n\u001b[1;32m    767\u001b[0m             \u001b[0;32mraise\u001b[0m \u001b[0mTimeoutError\u001b[0m\u001b[0;34m\u001b[0m\u001b[0;34m\u001b[0m\u001b[0m\n",
      "\u001b[0;32m/Applications/anaconda3/lib/python3.8/multiprocessing/pool.py\u001b[0m in \u001b[0;36mwait\u001b[0;34m(self, timeout)\u001b[0m\n\u001b[1;32m    760\u001b[0m \u001b[0;34m\u001b[0m\u001b[0m\n\u001b[1;32m    761\u001b[0m     \u001b[0;32mdef\u001b[0m \u001b[0mwait\u001b[0m\u001b[0;34m(\u001b[0m\u001b[0mself\u001b[0m\u001b[0;34m,\u001b[0m \u001b[0mtimeout\u001b[0m\u001b[0;34m=\u001b[0m\u001b[0;32mNone\u001b[0m\u001b[0;34m)\u001b[0m\u001b[0;34m:\u001b[0m\u001b[0;34m\u001b[0m\u001b[0;34m\u001b[0m\u001b[0m\n\u001b[0;32m--> 762\u001b[0;31m         \u001b[0mself\u001b[0m\u001b[0;34m.\u001b[0m\u001b[0m_event\u001b[0m\u001b[0;34m.\u001b[0m\u001b[0mwait\u001b[0m\u001b[0;34m(\u001b[0m\u001b[0mtimeout\u001b[0m\u001b[0;34m)\u001b[0m\u001b[0;34m\u001b[0m\u001b[0;34m\u001b[0m\u001b[0m\n\u001b[0m\u001b[1;32m    763\u001b[0m \u001b[0;34m\u001b[0m\u001b[0m\n\u001b[1;32m    764\u001b[0m     \u001b[0;32mdef\u001b[0m \u001b[0mget\u001b[0m\u001b[0;34m(\u001b[0m\u001b[0mself\u001b[0m\u001b[0;34m,\u001b[0m \u001b[0mtimeout\u001b[0m\u001b[0;34m=\u001b[0m\u001b[0;32mNone\u001b[0m\u001b[0;34m)\u001b[0m\u001b[0;34m:\u001b[0m\u001b[0;34m\u001b[0m\u001b[0;34m\u001b[0m\u001b[0m\n",
      "\u001b[0;32m/Applications/anaconda3/lib/python3.8/threading.py\u001b[0m in \u001b[0;36mwait\u001b[0;34m(self, timeout)\u001b[0m\n\u001b[1;32m    556\u001b[0m             \u001b[0msignaled\u001b[0m \u001b[0;34m=\u001b[0m \u001b[0mself\u001b[0m\u001b[0;34m.\u001b[0m\u001b[0m_flag\u001b[0m\u001b[0;34m\u001b[0m\u001b[0;34m\u001b[0m\u001b[0m\n\u001b[1;32m    557\u001b[0m             \u001b[0;32mif\u001b[0m \u001b[0;32mnot\u001b[0m \u001b[0msignaled\u001b[0m\u001b[0;34m:\u001b[0m\u001b[0;34m\u001b[0m\u001b[0;34m\u001b[0m\u001b[0m\n\u001b[0;32m--> 558\u001b[0;31m                 \u001b[0msignaled\u001b[0m \u001b[0;34m=\u001b[0m \u001b[0mself\u001b[0m\u001b[0;34m.\u001b[0m\u001b[0m_cond\u001b[0m\u001b[0;34m.\u001b[0m\u001b[0mwait\u001b[0m\u001b[0;34m(\u001b[0m\u001b[0mtimeout\u001b[0m\u001b[0;34m)\u001b[0m\u001b[0;34m\u001b[0m\u001b[0;34m\u001b[0m\u001b[0m\n\u001b[0m\u001b[1;32m    559\u001b[0m             \u001b[0;32mreturn\u001b[0m \u001b[0msignaled\u001b[0m\u001b[0;34m\u001b[0m\u001b[0;34m\u001b[0m\u001b[0m\n\u001b[1;32m    560\u001b[0m \u001b[0;34m\u001b[0m\u001b[0m\n",
      "\u001b[0;32m/Applications/anaconda3/lib/python3.8/threading.py\u001b[0m in \u001b[0;36mwait\u001b[0;34m(self, timeout)\u001b[0m\n\u001b[1;32m    300\u001b[0m         \u001b[0;32mtry\u001b[0m\u001b[0;34m:\u001b[0m    \u001b[0;31m# restore state no matter what (e.g., KeyboardInterrupt)\u001b[0m\u001b[0;34m\u001b[0m\u001b[0;34m\u001b[0m\u001b[0m\n\u001b[1;32m    301\u001b[0m             \u001b[0;32mif\u001b[0m \u001b[0mtimeout\u001b[0m \u001b[0;32mis\u001b[0m \u001b[0;32mNone\u001b[0m\u001b[0;34m:\u001b[0m\u001b[0;34m\u001b[0m\u001b[0;34m\u001b[0m\u001b[0m\n\u001b[0;32m--> 302\u001b[0;31m                 \u001b[0mwaiter\u001b[0m\u001b[0;34m.\u001b[0m\u001b[0macquire\u001b[0m\u001b[0;34m(\u001b[0m\u001b[0;34m)\u001b[0m\u001b[0;34m\u001b[0m\u001b[0;34m\u001b[0m\u001b[0m\n\u001b[0m\u001b[1;32m    303\u001b[0m                 \u001b[0mgotit\u001b[0m \u001b[0;34m=\u001b[0m \u001b[0;32mTrue\u001b[0m\u001b[0;34m\u001b[0m\u001b[0;34m\u001b[0m\u001b[0m\n\u001b[1;32m    304\u001b[0m             \u001b[0;32melse\u001b[0m\u001b[0;34m:\u001b[0m\u001b[0;34m\u001b[0m\u001b[0;34m\u001b[0m\u001b[0m\n",
      "\u001b[0;31mKeyboardInterrupt\u001b[0m: "
     ]
    }
   ],
   "source": [
    "random_forest1 = RandomForestClassifier(criterion= 'entropy',\n",
    "                                        random_state = 42,\n",
    "                                        n_jobs = -1,\n",
    "                                        n_estimators = 100)\n",
    "\n",
    "#random_forest1.set_params(**rs1.best_params_)\n",
    "random_forest1.fit(X_train,y_train)\n",
    "pred_y_train = random_forest1.predict(X_train)\n",
    "pred_y_val = random_forest1.predict(X_val)"
   ]
  },
  {
   "cell_type": "code",
   "execution_count": null,
   "metadata": {},
   "outputs": [],
   "source": [
    "print(classification_report(y_train,pred_y_train))"
   ]
  },
  {
   "cell_type": "code",
   "execution_count": null,
   "metadata": {},
   "outputs": [],
   "source": [
    "print(classification_report(y_val,pred_y_val))"
   ]
  },
  {
   "cell_type": "markdown",
   "metadata": {},
   "source": [
    "## 用来测试"
   ]
  },
  {
   "cell_type": "code",
   "execution_count": null,
   "metadata": {},
   "outputs": [],
   "source": [
    "random_forest1 = RandomForestClassifier(criterion= 'entropy',\n",
    "                                        random_state = 42,\n",
    "                                        n_jobs = -1)\n",
    "\n",
    "random_forest1.set_params(**rs.best_params_)\n",
    "random_forest1.fit(X_train,y_train)\n",
    "pred_y_train = random_forest1.predict(X_train)\n",
    "pred_y_val = random_forest1.predict(X_val)\n",
    "\n",
    "print(classification_report(y_train,pred_y_train))\n",
    "print(classification_report(y_train,pred_y_train))"
   ]
  },
  {
   "cell_type": "markdown",
   "metadata": {},
   "source": [
    "## 避免Overfitting"
   ]
  },
  {
   "cell_type": "code",
   "execution_count": 235,
   "metadata": {},
   "outputs": [
    {
     "name": "stdout",
     "output_type": "stream",
     "text": [
      "Fitting 5 folds for each of 10 candidates, totalling 50 fits\n"
     ]
    },
    {
     "name": "stderr",
     "output_type": "stream",
     "text": [
      "[Parallel(n_jobs=-1)]: Using backend LokyBackend with 4 concurrent workers.\n",
      "[Parallel(n_jobs=-1)]: Done   5 tasks      | elapsed: 11.8min\n",
      "[Parallel(n_jobs=-1)]: Done  10 tasks      | elapsed: 16.8min\n",
      "[Parallel(n_jobs=-1)]: Done  17 tasks      | elapsed: 25.9min\n",
      "[Parallel(n_jobs=-1)]: Done  24 tasks      | elapsed: 30.0min\n",
      "[Parallel(n_jobs=-1)]: Done  33 tasks      | elapsed: 42.4min\n",
      "[Parallel(n_jobs=-1)]: Done  42 tasks      | elapsed: 50.0min\n",
      "[Parallel(n_jobs=-1)]: Done  50 out of  50 | elapsed: 58.4min finished\n"
     ]
    },
    {
     "data": {
      "text/plain": [
       "{'max_features': 'sqrt', 'min_samples_split': 10}"
      ]
     },
     "execution_count": 235,
     "metadata": {},
     "output_type": "execute_result"
    }
   ],
   "source": [
    "params = {'max_features': ['sqrt','log2'],\n",
    "          'min_samples_split': [int(x) for x in np.linspace(start = 10, stop = 40, num = 5)]}\n",
    "\n",
    "####Hyperparameter Tuning by randomizedd search\n",
    "random_forest = RandomForestClassifier(criterion = 'entropy',\n",
    "                                       n_estimators =  94, \n",
    "                                       max_depth = 23,\n",
    "                                       random_state = 42)\n",
    "          \n",
    "rs = GridSearchCV(estimator = random_forest,\n",
    "                       param_grid = params,\n",
    "                        scoring='f1_micro',\n",
    "                        cv= pfs,\n",
    "                        verbose= 10,\n",
    "                        n_jobs= -1)\n",
    "\n",
    "rs.fit(X_train_val,y_train_val)\n",
    "rs.best_params_"
   ]
  },
  {
   "cell_type": "code",
   "execution_count": 243,
   "metadata": {},
   "outputs": [],
   "source": [
    "random_forest2 = RandomForestClassifier(criterion = 'entropy',\n",
    "                                        n_estimators = 138,\n",
    "                                        max_depth = 22,\n",
    "                                        random_state = 42,\n",
    "                                        max_features ='sqrt',\n",
    "                                        min_samples_split = 10)\n",
    "\n",
    "\n",
    "random_forest2.fit(X_train,y_train)\n",
    "\n",
    "pred_y_train = random_forest2.predict(X_train)\n",
    "pred_y_val = random_forest2.predict(X_val)"
   ]
  },
  {
   "cell_type": "code",
   "execution_count": 244,
   "metadata": {},
   "outputs": [
    {
     "name": "stdout",
     "output_type": "stream",
     "text": [
      "              precision    recall  f1-score   support\n",
      "\n",
      "           1       0.99      0.96      0.98    135578\n",
      "           2       0.97      0.99      0.98    181312\n",
      "           3       0.99      0.99      0.99     22882\n",
      "           4       0.97      0.94      0.96      1759\n",
      "           5       0.99      0.90      0.94      6075\n",
      "           6       0.98      0.98      0.98     11115\n",
      "           7       0.99      0.98      0.99     13126\n",
      "\n",
      "    accuracy                           0.98    371847\n",
      "   macro avg       0.98      0.96      0.97    371847\n",
      "weighted avg       0.98      0.98      0.98    371847\n",
      "\n"
     ]
    }
   ],
   "source": [
    "print(classification_report(y_train,pred_y_train))"
   ]
  },
  {
   "cell_type": "code",
   "execution_count": 245,
   "metadata": {},
   "outputs": [
    {
     "name": "stdout",
     "output_type": "stream",
     "text": [
      "              precision    recall  f1-score   support\n",
      "\n",
      "           1       0.95      0.91      0.93     33894\n",
      "           2       0.93      0.96      0.94     45328\n",
      "           3       0.93      0.95      0.94      5721\n",
      "           4       0.90      0.83      0.86       439\n",
      "           5       0.91      0.71      0.80      1519\n",
      "           6       0.91      0.88      0.89      2779\n",
      "           7       0.97      0.93      0.95      3282\n",
      "\n",
      "    accuracy                           0.94     92962\n",
      "   macro avg       0.93      0.88      0.90     92962\n",
      "weighted avg       0.94      0.94      0.93     92962\n",
      "\n"
     ]
    }
   ],
   "source": [
    "print(classification_report(y_val,pred_y_val))"
   ]
  },
  {
   "cell_type": "code",
   "execution_count": null,
   "metadata": {},
   "outputs": [],
   "source": [
    "params = {'min_sample_leaf': [int(x) for x in np.linspace(start = 10, stop = 50, num = 5)]}\n",
    "                \n",
    "\n",
    "#append the training set and validation set in order to adapt for the RandomForestClassifier\n",
    "#our validaiton set is predefined and we don't want RandomForestClassifier validate using our training set\n",
    "X_train_val = X_train.append(X_val)\n",
    "y_train_val = y_train.append(y_val)\n",
    "\n",
    "#set the index of the predefined set to 0, so the RandomizedSearchCV will not train on the predefined validation set\n",
    "predefined_folds = np.zeros(X_train_val.shape[0])\n",
    "#set the index of the training set to -1\n",
    "predefined_folds[:X_train.shape[0]] = sample(([1,2,3,4] * (X_train.shape[0] // 4)) + [1,2,3],(X_train.shape[0]))\n",
    "\n",
    "pfs = PredefinedSplit(test_fold = predefined_folds) \n",
    "  \n",
    "    \n",
    "\n",
    "####Hyperparameter Tuning by randomizedd search\n",
    "random_forest = RandomForestClassifier(random_state = 42,\n",
    "                                       criterion = 'entropy',\n",
    "                                       n_estimators = 100,\n",
    "                                       max_depth = 39)\n",
    "          \n",
    "rs = GridSearchCV(estimator = random_forest,\n",
    "                       param_grid = params,\n",
    "                        scoring='f1_micro',\n",
    "                        cv= pfs,\n",
    "                        verbose= 10,\n",
    "                        n_jobs= -1)\n",
    "\n",
    "rs.fit(X_train_val,y_train_val)\n",
    "rs.best_params_"
   ]
  },
  {
   "cell_type": "code",
   "execution_count": 232,
   "metadata": {},
   "outputs": [],
   "source": [
    "random_forest3 = RandomForestClassifier()\n",
    "random_forest3.set_params(criterion = 'entropy',n_estimators = 100,\n",
    "                          max_depth = 39,random_state = 42,min_samples_split = 30)\n",
    "random_forest3.fit(X_train,y_train)\n",
    "pred_y_train = random_forest3.predict(X_train)\n",
    "pred_y_val = random_forest3.predict(X_val)"
   ]
  },
  {
   "cell_type": "code",
   "execution_count": 233,
   "metadata": {},
   "outputs": [
    {
     "name": "stdout",
     "output_type": "stream",
     "text": [
      "              precision    recall  f1-score   support\n",
      "\n",
      "           1       0.98      0.96      0.97    135578\n",
      "           2       0.96      0.98      0.97    181312\n",
      "           3       0.95      0.97      0.96     22882\n",
      "           4       0.93      0.86      0.89      1759\n",
      "           5       0.97      0.75      0.85      6075\n",
      "           6       0.95      0.91      0.93     11115\n",
      "           7       0.98      0.95      0.97     13126\n",
      "\n",
      "    accuracy                           0.96    371847\n",
      "   macro avg       0.96      0.91      0.93    371847\n",
      "weighted avg       0.97      0.96      0.96    371847\n",
      "\n",
      "              precision    recall  f1-score   support\n",
      "\n",
      "           1       0.94      0.91      0.93     33894\n",
      "           2       0.92      0.96      0.94     45328\n",
      "           3       0.91      0.94      0.92      5721\n",
      "           4       0.88      0.80      0.84       439\n",
      "           5       0.91      0.63      0.74      1519\n",
      "           6       0.89      0.83      0.86      2779\n",
      "           7       0.96      0.91      0.94      3282\n",
      "\n",
      "    accuracy                           0.93     92962\n",
      "   macro avg       0.92      0.85      0.88     92962\n",
      "weighted avg       0.93      0.93      0.93     92962\n",
      "\n"
     ]
    }
   ],
   "source": [
    "print(classification_report(y_train,pred_y_train))\n",
    "print(classification_report(y_val,pred_y_val))\n"
   ]
  },
  {
   "cell_type": "markdown",
   "metadata": {},
   "source": [
    "## Perform Oversampling  and Undersampling On the Data"
   ]
  },
  {
   "cell_type": "markdown",
   "metadata": {},
   "source": [
    "In order to address the issue of class imblance, we perform oversampling and undersampling on the trainning set, and\n",
    "keep validation set and test set intact."
   ]
  },
  {
   "cell_type": "code",
   "execution_count": 9,
   "metadata": {},
   "outputs": [
    {
     "data": {
      "text/plain": [
       "2    181312\n",
       "1    135578\n",
       "3     22882\n",
       "7     13126\n",
       "6     11115\n",
       "5      6075\n",
       "4      1759\n",
       "Name: Cover_Type, dtype: int64"
      ]
     },
     "execution_count": 9,
     "metadata": {},
     "output_type": "execute_result"
    }
   ],
   "source": [
    "train.Cover_Type.value_counts()"
   ]
  },
  {
   "cell_type": "code",
   "execution_count": 41,
   "metadata": {},
   "outputs": [],
   "source": [
    "#set the target counts for the undersampled classes\n",
    "#covtype1_count = 50000\n",
    "#covtype2_count = 50000\n",
    "#covtype3_count = 8000\n",
    "\n",
    "#set the target counts for the oversampled classe\n",
    "covtype4_count = 3000\n",
    "covtype5_count  = 10000\n",
    "\n",
    "\n",
    "#perfrom oversampling on our training data\n",
    "pipe = make_pipeline(\n",
    "    BorderlineSMOTE(sampling_strategy={4:covtype4_count, 5: covtype5_count}),\n",
    "    #NearMiss(sampling_strategy={1 :covtype1_count,2:covtype2_count})\n",
    "    )\n",
    "\n",
    "X_train_res, y_train_res = pipe.fit_resample(X_train, y_train)"
   ]
  },
  {
   "cell_type": "code",
   "execution_count": 65,
   "metadata": {},
   "outputs": [
    {
     "data": {
      "text/plain": [
       "2    181312\n",
       "1    135578\n",
       "3     22882\n",
       "7     13126\n",
       "6     11115\n",
       "5     10000\n",
       "4      3000\n",
       "Name: Cover_Type, dtype: int64"
      ]
     },
     "execution_count": 65,
     "metadata": {},
     "output_type": "execute_result"
    }
   ],
   "source": [
    "#sampled size for each class\n",
    "y_train_res.value_counts()"
   ]
  },
  {
   "cell_type": "code",
   "execution_count": 46,
   "metadata": {},
   "outputs": [],
   "source": [
    "#train our model on the resampled training data with our optimal hyperparamters\n",
    "decision_tree_res = tree.DecisionTreeClassifier(criterion = 'entropy',max_depth= 19,random_state = 42)\n",
    "decision_tree_res.fit(X_train_res,y_train_res)\n",
    "\n",
    "pred_y_train = decision_tree_res.predict(X_train)\n",
    "pred_y_val = decision_tree_res.predict(X_val)"
   ]
  },
  {
   "cell_type": "code",
   "execution_count": 48,
   "metadata": {},
   "outputs": [
    {
     "name": "stdout",
     "output_type": "stream",
     "text": [
      "              precision    recall  f1-score   support\n",
      "\n",
      "           1       0.95      0.94      0.95    135578\n",
      "           2       0.96      0.96      0.96    181312\n",
      "           3       0.99      0.99      0.99     22882\n",
      "           4       0.99      0.99      0.99      1759\n",
      "           5       0.93      0.97      0.95      6075\n",
      "           6       0.97      0.99      0.98     11115\n",
      "           7       0.99      0.98      0.99     13126\n",
      "\n",
      "    accuracy                           0.96    371847\n",
      "   macro avg       0.97      0.98      0.97    371847\n",
      "weighted avg       0.96      0.96      0.96    371847\n",
      "\n"
     ]
    }
   ],
   "source": [
    "print(classification_report(y_train,pred_y_train))"
   ]
  },
  {
   "cell_type": "code",
   "execution_count": 49,
   "metadata": {},
   "outputs": [
    {
     "name": "stdout",
     "output_type": "stream",
     "text": [
      "              precision    recall  f1-score   support\n",
      "\n",
      "           1       0.91      0.90      0.90     33894\n",
      "           2       0.92      0.93      0.92     45328\n",
      "           3       0.93      0.92      0.93      5721\n",
      "           4       0.82      0.83      0.82       439\n",
      "           5       0.77      0.82      0.79      1519\n",
      "           6       0.86      0.87      0.87      2779\n",
      "           7       0.95      0.93      0.94      3282\n",
      "\n",
      "    accuracy                           0.91     92962\n",
      "   macro avg       0.88      0.88      0.88     92962\n",
      "weighted avg       0.91      0.91      0.91     92962\n",
      "\n"
     ]
    }
   ],
   "source": [
    "print(classification_report(y_val,pred_y_val))"
   ]
  },
  {
   "cell_type": "markdown",
   "metadata": {},
   "source": [
    "Oversampleling technic does not help our model improve the ability to identify the minorities and even weakens its ability to identify majorities. The precision of class 4 is reduced by 4%. There also presents a subtle decrease in other scores across different classes."
   ]
  },
  {
   "cell_type": "code",
   "execution_count": 60,
   "metadata": {},
   "outputs": [],
   "source": [
    "random_forestd_res = RandomForestClassifier(criterion = 'entropy',\n",
    "                                          random_state = 42,\n",
    "                                          n_estimators = 100,\n",
    "                                          max_depth = 19)\n",
    "random_forestd_res.fit(X_train_res,y_train_res)\n",
    "pred_y_train = random_forestd_res.predict(X_train)\n",
    "pred_y_val = random_forestd_res.predict(X_val)"
   ]
  },
  {
   "cell_type": "code",
   "execution_count": 61,
   "metadata": {},
   "outputs": [
    {
     "name": "stdout",
     "output_type": "stream",
     "text": [
      "              precision    recall  f1-score   support\n",
      "\n",
      "           1       0.98      0.94      0.96    135578\n",
      "           2       0.96      0.99      0.97    181312\n",
      "           3       1.00      1.00      1.00     22882\n",
      "           4       1.00      1.00      1.00      1759\n",
      "           5       0.99      0.96      0.98      6075\n",
      "           6       0.99      0.99      0.99     11115\n",
      "           7       1.00      0.98      0.99     13126\n",
      "\n",
      "    accuracy                           0.97    371847\n",
      "   macro avg       0.99      0.98      0.98    371847\n",
      "weighted avg       0.97      0.97      0.97    371847\n",
      "\n"
     ]
    }
   ],
   "source": [
    "print(classification_report(y_train,pred_y_train))"
   ]
  },
  {
   "cell_type": "code",
   "execution_count": 62,
   "metadata": {},
   "outputs": [
    {
     "name": "stdout",
     "output_type": "stream",
     "text": [
      "              precision    recall  f1-score   support\n",
      "\n",
      "           1       0.94      0.89      0.92     33894\n",
      "           2       0.91      0.95      0.93     45328\n",
      "           3       0.93      0.95      0.94      5721\n",
      "           4       0.88      0.88      0.88       439\n",
      "           5       0.87      0.79      0.83      1519\n",
      "           6       0.91      0.88      0.89      2779\n",
      "           7       0.97      0.93      0.95      3282\n",
      "\n",
      "    accuracy                           0.93     92962\n",
      "   macro avg       0.92      0.90      0.91     92962\n",
      "weighted avg       0.93      0.93      0.93     92962\n",
      "\n"
     ]
    }
   ],
   "source": [
    "print(classification_report(y_val,pred_y_val))"
   ]
  },
  {
   "cell_type": "code",
   "execution_count": 64,
   "metadata": {},
   "outputs": [
    {
     "data": {
      "image/png": "[encoded data removed]",
      "text/plain": [
       "<Figure size 720x720 with 2 Axes>"
      ]
     },
     "metadata": {
      "needs_background": "light"
     },
     "output_type": "display_data"
    }
   ],
   "source": [
    "fig,ax = plt.subplots(figsize=(10, 10))\n",
    "plot_confusion_matrix(random_forestd_res,X_val,y_val,cmap=plt.cm.Blues,ax = ax)\n",
    "plt.show()"
   ]
  },
  {
   "cell_type": "code",
   "execution_count": null,
   "metadata": {},
   "outputs": [],
   "source": []
  }
 ],
 "metadata": {
  "kernelspec": {
   "display_name": "Python 3",
   "language": "python",
   "name": "python3"
  },
  "language_info": {
   "codemirror_mode": {
    "name": "ipython",
    "version": 3
   },
   "file_extension": ".py",
   "mimetype": "text/x-python",
   "name": "python",
   "nbconvert_exporter": "python",
   "pygments_lexer": "ipython3",
   "version": "3.8.5"
  },
  "varInspector": {
   "cols": {
    "lenName": 16,
    "lenType": 16,
    "lenVar": 40
   },
   "kernels_config": {
    "python": {
     "delete_cmd_postfix": "",
     "delete_cmd_prefix": "del ",
     "library": "var_list.py",
     "varRefreshCmd": "print(var_dic_list())"
    },
    "r": {
     "delete_cmd_postfix": ") ",
     "delete_cmd_prefix": "rm(",
     "library": "var_list.r",
     "varRefreshCmd": "cat(var_dic_list()) "
    }
   },
   "types_to_exclude": [
    "module",
    "function",
    "builtin_function_or_method",
    "instance",
    "_Feature"
   ],
   "window_display": false
  }
 },
 "nbformat": 4,
 "nbformat_minor": 4
}
